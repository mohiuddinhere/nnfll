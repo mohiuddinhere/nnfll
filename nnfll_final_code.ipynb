{
  "nbformat": 4,
  "nbformat_minor": 0,
  "metadata": {
    "colab": {
      "provenance": [],
      "include_colab_link": true
    },
    "kernelspec": {
      "name": "python3",
      "display_name": "Python 3"
    },
    "language_info": {
      "name": "python"
    },
    "gpuClass": "standard"
  },
  "cells": [
    {
      "cell_type": "markdown",
      "metadata": {
        "id": "view-in-github",
        "colab_type": "text"
      },
      "source": [
        "<a href=\"https://colab.research.google.com/github/mohiuhere/nnfll/blob/main/nnfll_final_code.ipynb\" target=\"_parent\"><img src=\"https://colab.research.google.com/assets/colab-badge.svg\" alt=\"Open In Colab\"/></a>"
      ]
    },
    {
      "cell_type": "code",
      "metadata": {
        "colab": {
          "base_uri": "https://localhost:8080/"
        },
        "id": "9SklLiVzraUz",
        "outputId": "465763cc-f784-4b20-fb2c-3e5eea8df18e"
      },
      "source": [
        "from google.colab import drive\n",
        "drive.mount('/content/drive')"
      ],
      "execution_count": 1,
      "outputs": [
        {
          "output_type": "stream",
          "name": "stdout",
          "text": [
            "Mounted at /content/drive\n"
          ]
        }
      ]
    },
    {
      "cell_type": "code",
      "metadata": {
        "id": "9owEFokCr_Cv"
      },
      "source": [
        "import numpy as np\n",
        "import pandas as pd  "
      ],
      "execution_count": 2,
      "outputs": []
    },
    {
      "cell_type": "code",
      "metadata": {
        "id": "RtlftJ5msGee"
      },
      "source": [
        "dataset = pd.read_csv('/content/sample_data/Crop_recommendation.csv')"
      ],
      "execution_count": 3,
      "outputs": []
    },
    {
      "cell_type": "code",
      "metadata": {
        "colab": {
          "base_uri": "https://localhost:8080/",
          "height": 423
        },
        "id": "GxQQp2ulBBEt",
        "outputId": "2ca4354f-c625-4ed5-9386-34960dc822b6"
      },
      "source": [
        "dataset"
      ],
      "execution_count": 4,
      "outputs": [
        {
          "output_type": "execute_result",
          "data": {
            "text/plain": [
              "        N   P   K  temperature   humidity        ph    rainfall   label\n",
              "0      90  42  43    20.879744  82.002744  6.502985  202.935536    rice\n",
              "1      85  58  41    21.770462  80.319644  7.038096  226.655537    rice\n",
              "2      60  55  44    23.004459  82.320763  7.840207  263.964248    rice\n",
              "3      74  35  40    26.491096  80.158363  6.980401  242.864034    rice\n",
              "4      78  42  42    20.130175  81.604873  7.628473  262.717340    rice\n",
              "...   ...  ..  ..          ...        ...       ...         ...     ...\n",
              "2195  107  34  32    26.774637  66.413269  6.780064  177.774507  coffee\n",
              "2196   99  15  27    27.417112  56.636362  6.086922  127.924610  coffee\n",
              "2197  118  33  30    24.131797  67.225123  6.362608  173.322839  coffee\n",
              "2198  117  32  34    26.272418  52.127394  6.758793  127.175293  coffee\n",
              "2199  104  18  30    23.603016  60.396475  6.779833  140.937041  coffee\n",
              "\n",
              "[2200 rows x 8 columns]"
            ],
            "text/html": [
              "\n",
              "  <div id=\"df-14523aa5-b598-4bce-b192-20364903cc3c\">\n",
              "    <div class=\"colab-df-container\">\n",
              "      <div>\n",
              "<style scoped>\n",
              "    .dataframe tbody tr th:only-of-type {\n",
              "        vertical-align: middle;\n",
              "    }\n",
              "\n",
              "    .dataframe tbody tr th {\n",
              "        vertical-align: top;\n",
              "    }\n",
              "\n",
              "    .dataframe thead th {\n",
              "        text-align: right;\n",
              "    }\n",
              "</style>\n",
              "<table border=\"1\" class=\"dataframe\">\n",
              "  <thead>\n",
              "    <tr style=\"text-align: right;\">\n",
              "      <th></th>\n",
              "      <th>N</th>\n",
              "      <th>P</th>\n",
              "      <th>K</th>\n",
              "      <th>temperature</th>\n",
              "      <th>humidity</th>\n",
              "      <th>ph</th>\n",
              "      <th>rainfall</th>\n",
              "      <th>label</th>\n",
              "    </tr>\n",
              "  </thead>\n",
              "  <tbody>\n",
              "    <tr>\n",
              "      <th>0</th>\n",
              "      <td>90</td>\n",
              "      <td>42</td>\n",
              "      <td>43</td>\n",
              "      <td>20.879744</td>\n",
              "      <td>82.002744</td>\n",
              "      <td>6.502985</td>\n",
              "      <td>202.935536</td>\n",
              "      <td>rice</td>\n",
              "    </tr>\n",
              "    <tr>\n",
              "      <th>1</th>\n",
              "      <td>85</td>\n",
              "      <td>58</td>\n",
              "      <td>41</td>\n",
              "      <td>21.770462</td>\n",
              "      <td>80.319644</td>\n",
              "      <td>7.038096</td>\n",
              "      <td>226.655537</td>\n",
              "      <td>rice</td>\n",
              "    </tr>\n",
              "    <tr>\n",
              "      <th>2</th>\n",
              "      <td>60</td>\n",
              "      <td>55</td>\n",
              "      <td>44</td>\n",
              "      <td>23.004459</td>\n",
              "      <td>82.320763</td>\n",
              "      <td>7.840207</td>\n",
              "      <td>263.964248</td>\n",
              "      <td>rice</td>\n",
              "    </tr>\n",
              "    <tr>\n",
              "      <th>3</th>\n",
              "      <td>74</td>\n",
              "      <td>35</td>\n",
              "      <td>40</td>\n",
              "      <td>26.491096</td>\n",
              "      <td>80.158363</td>\n",
              "      <td>6.980401</td>\n",
              "      <td>242.864034</td>\n",
              "      <td>rice</td>\n",
              "    </tr>\n",
              "    <tr>\n",
              "      <th>4</th>\n",
              "      <td>78</td>\n",
              "      <td>42</td>\n",
              "      <td>42</td>\n",
              "      <td>20.130175</td>\n",
              "      <td>81.604873</td>\n",
              "      <td>7.628473</td>\n",
              "      <td>262.717340</td>\n",
              "      <td>rice</td>\n",
              "    </tr>\n",
              "    <tr>\n",
              "      <th>...</th>\n",
              "      <td>...</td>\n",
              "      <td>...</td>\n",
              "      <td>...</td>\n",
              "      <td>...</td>\n",
              "      <td>...</td>\n",
              "      <td>...</td>\n",
              "      <td>...</td>\n",
              "      <td>...</td>\n",
              "    </tr>\n",
              "    <tr>\n",
              "      <th>2195</th>\n",
              "      <td>107</td>\n",
              "      <td>34</td>\n",
              "      <td>32</td>\n",
              "      <td>26.774637</td>\n",
              "      <td>66.413269</td>\n",
              "      <td>6.780064</td>\n",
              "      <td>177.774507</td>\n",
              "      <td>coffee</td>\n",
              "    </tr>\n",
              "    <tr>\n",
              "      <th>2196</th>\n",
              "      <td>99</td>\n",
              "      <td>15</td>\n",
              "      <td>27</td>\n",
              "      <td>27.417112</td>\n",
              "      <td>56.636362</td>\n",
              "      <td>6.086922</td>\n",
              "      <td>127.924610</td>\n",
              "      <td>coffee</td>\n",
              "    </tr>\n",
              "    <tr>\n",
              "      <th>2197</th>\n",
              "      <td>118</td>\n",
              "      <td>33</td>\n",
              "      <td>30</td>\n",
              "      <td>24.131797</td>\n",
              "      <td>67.225123</td>\n",
              "      <td>6.362608</td>\n",
              "      <td>173.322839</td>\n",
              "      <td>coffee</td>\n",
              "    </tr>\n",
              "    <tr>\n",
              "      <th>2198</th>\n",
              "      <td>117</td>\n",
              "      <td>32</td>\n",
              "      <td>34</td>\n",
              "      <td>26.272418</td>\n",
              "      <td>52.127394</td>\n",
              "      <td>6.758793</td>\n",
              "      <td>127.175293</td>\n",
              "      <td>coffee</td>\n",
              "    </tr>\n",
              "    <tr>\n",
              "      <th>2199</th>\n",
              "      <td>104</td>\n",
              "      <td>18</td>\n",
              "      <td>30</td>\n",
              "      <td>23.603016</td>\n",
              "      <td>60.396475</td>\n",
              "      <td>6.779833</td>\n",
              "      <td>140.937041</td>\n",
              "      <td>coffee</td>\n",
              "    </tr>\n",
              "  </tbody>\n",
              "</table>\n",
              "<p>2200 rows × 8 columns</p>\n",
              "</div>\n",
              "      <button class=\"colab-df-convert\" onclick=\"convertToInteractive('df-14523aa5-b598-4bce-b192-20364903cc3c')\"\n",
              "              title=\"Convert this dataframe to an interactive table.\"\n",
              "              style=\"display:none;\">\n",
              "        \n",
              "  <svg xmlns=\"http://www.w3.org/2000/svg\" height=\"24px\"viewBox=\"0 0 24 24\"\n",
              "       width=\"24px\">\n",
              "    <path d=\"M0 0h24v24H0V0z\" fill=\"none\"/>\n",
              "    <path d=\"M18.56 5.44l.94 2.06.94-2.06 2.06-.94-2.06-.94-.94-2.06-.94 2.06-2.06.94zm-11 1L8.5 8.5l.94-2.06 2.06-.94-2.06-.94L8.5 2.5l-.94 2.06-2.06.94zm10 10l.94 2.06.94-2.06 2.06-.94-2.06-.94-.94-2.06-.94 2.06-2.06.94z\"/><path d=\"M17.41 7.96l-1.37-1.37c-.4-.4-.92-.59-1.43-.59-.52 0-1.04.2-1.43.59L10.3 9.45l-7.72 7.72c-.78.78-.78 2.05 0 2.83L4 21.41c.39.39.9.59 1.41.59.51 0 1.02-.2 1.41-.59l7.78-7.78 2.81-2.81c.8-.78.8-2.07 0-2.86zM5.41 20L4 18.59l7.72-7.72 1.47 1.35L5.41 20z\"/>\n",
              "  </svg>\n",
              "      </button>\n",
              "      \n",
              "  <style>\n",
              "    .colab-df-container {\n",
              "      display:flex;\n",
              "      flex-wrap:wrap;\n",
              "      gap: 12px;\n",
              "    }\n",
              "\n",
              "    .colab-df-convert {\n",
              "      background-color: #E8F0FE;\n",
              "      border: none;\n",
              "      border-radius: 50%;\n",
              "      cursor: pointer;\n",
              "      display: none;\n",
              "      fill: #1967D2;\n",
              "      height: 32px;\n",
              "      padding: 0 0 0 0;\n",
              "      width: 32px;\n",
              "    }\n",
              "\n",
              "    .colab-df-convert:hover {\n",
              "      background-color: #E2EBFA;\n",
              "      box-shadow: 0px 1px 2px rgba(60, 64, 67, 0.3), 0px 1px 3px 1px rgba(60, 64, 67, 0.15);\n",
              "      fill: #174EA6;\n",
              "    }\n",
              "\n",
              "    [theme=dark] .colab-df-convert {\n",
              "      background-color: #3B4455;\n",
              "      fill: #D2E3FC;\n",
              "    }\n",
              "\n",
              "    [theme=dark] .colab-df-convert:hover {\n",
              "      background-color: #434B5C;\n",
              "      box-shadow: 0px 1px 3px 1px rgba(0, 0, 0, 0.15);\n",
              "      filter: drop-shadow(0px 1px 2px rgba(0, 0, 0, 0.3));\n",
              "      fill: #FFFFFF;\n",
              "    }\n",
              "  </style>\n",
              "\n",
              "      <script>\n",
              "        const buttonEl =\n",
              "          document.querySelector('#df-14523aa5-b598-4bce-b192-20364903cc3c button.colab-df-convert');\n",
              "        buttonEl.style.display =\n",
              "          google.colab.kernel.accessAllowed ? 'block' : 'none';\n",
              "\n",
              "        async function convertToInteractive(key) {\n",
              "          const element = document.querySelector('#df-14523aa5-b598-4bce-b192-20364903cc3c');\n",
              "          const dataTable =\n",
              "            await google.colab.kernel.invokeFunction('convertToInteractive',\n",
              "                                                     [key], {});\n",
              "          if (!dataTable) return;\n",
              "\n",
              "          const docLinkHtml = 'Like what you see? Visit the ' +\n",
              "            '<a target=\"_blank\" href=https://colab.research.google.com/notebooks/data_table.ipynb>data table notebook</a>'\n",
              "            + ' to learn more about interactive tables.';\n",
              "          element.innerHTML = '';\n",
              "          dataTable['output_type'] = 'display_data';\n",
              "          await google.colab.output.renderOutput(dataTable, element);\n",
              "          const docLink = document.createElement('div');\n",
              "          docLink.innerHTML = docLinkHtml;\n",
              "          element.appendChild(docLink);\n",
              "        }\n",
              "      </script>\n",
              "    </div>\n",
              "  </div>\n",
              "  "
            ]
          },
          "metadata": {},
          "execution_count": 4
        }
      ]
    },
    {
      "cell_type": "code",
      "source": [
        "X = dataset.iloc[ :,[0, 1, 2, 3, 4, 5, 6]].values\n",
        "y = dataset.iloc[ :, -1].values"
      ],
      "metadata": {
        "id": "5p5tpPKIEHKx"
      },
      "execution_count": 43,
      "outputs": []
    },
    {
      "cell_type": "code",
      "source": [
        "X.shape"
      ],
      "metadata": {
        "colab": {
          "base_uri": "https://localhost:8080/"
        },
        "id": "HMeP0buf7QVP",
        "outputId": "f66e6d0c-5aea-4c05-d87d-df9325a62904"
      },
      "execution_count": 44,
      "outputs": [
        {
          "output_type": "execute_result",
          "data": {
            "text/plain": [
              "(2200, 7)"
            ]
          },
          "metadata": {},
          "execution_count": 44
        }
      ]
    },
    {
      "cell_type": "code",
      "metadata": {
        "colab": {
          "base_uri": "https://localhost:8080/"
        },
        "id": "E8aohBy4FjRm",
        "outputId": "a19cb154-4312-4adf-8ae9-9327c4955a61"
      },
      "source": [
        "X.shape"
      ],
      "execution_count": 24,
      "outputs": [
        {
          "output_type": "execute_result",
          "data": {
            "text/plain": [
              "(2200, 7)"
            ]
          },
          "metadata": {},
          "execution_count": 24
        }
      ]
    },
    {
      "cell_type": "code",
      "source": [
        "X"
      ],
      "metadata": {
        "id": "k5OEPZAaw5BT",
        "colab": {
          "base_uri": "https://localhost:8080/"
        },
        "outputId": "7ed96330-8372-4b07-e8f8-ca53db06dfe7"
      },
      "execution_count": 46,
      "outputs": [
        {
          "output_type": "execute_result",
          "data": {
            "text/plain": [
              "array([[ 90.        ,  42.        ,  43.        , ...,  82.00274423,\n",
              "          6.50298529, 202.9355362 ],\n",
              "       [ 85.        ,  58.        ,  41.        , ...,  80.31964408,\n",
              "          7.03809636, 226.6555374 ],\n",
              "       [ 60.        ,  55.        ,  44.        , ...,  82.3207629 ,\n",
              "          7.84020714, 263.9642476 ],\n",
              "       ...,\n",
              "       [118.        ,  33.        ,  30.        , ...,  67.22512329,\n",
              "          6.36260785, 173.3228386 ],\n",
              "       [117.        ,  32.        ,  34.        , ...,  52.12739421,\n",
              "          6.75879255, 127.1752928 ],\n",
              "       [104.        ,  18.        ,  30.        , ...,  60.39647474,\n",
              "          6.77983261, 140.9370415 ]])"
            ]
          },
          "metadata": {},
          "execution_count": 46
        }
      ]
    },
    {
      "cell_type": "code",
      "metadata": {
        "colab": {
          "base_uri": "https://localhost:8080/"
        },
        "id": "tOtS8BLXsiQ2",
        "outputId": "f0886e0f-190d-44f8-d377-8d7d5fc4447f"
      },
      "source": [
        "y.shape"
      ],
      "execution_count": 47,
      "outputs": [
        {
          "output_type": "execute_result",
          "data": {
            "text/plain": [
              "(2200,)"
            ]
          },
          "metadata": {},
          "execution_count": 47
        }
      ]
    },
    {
      "cell_type": "code",
      "metadata": {
        "colab": {
          "base_uri": "https://localhost:8080/"
        },
        "id": "acZ46Rx0skqB",
        "outputId": "56cc6bee-5617-4394-96a8-e1eab1b5bd67"
      },
      "source": [
        "y"
      ],
      "execution_count": 48,
      "outputs": [
        {
          "output_type": "execute_result",
          "data": {
            "text/plain": [
              "array(['rice', 'rice', 'rice', ..., 'coffee', 'coffee', 'coffee'],\n",
              "      dtype=object)"
            ]
          },
          "metadata": {},
          "execution_count": 48
        }
      ]
    },
    {
      "cell_type": "code",
      "metadata": {
        "id": "EqJEzQYysoWE"
      },
      "source": [
        "# from sklearn.preprocessing import OneHotEncoder\n",
        "# ohe = OneHotEncoder()\n",
        "# Y = ohe.fit_transform(dataset[['label']]).toarray()\n",
        "from sklearn.preprocessing import LabelBinarizer\n",
        "lb = LabelBinarizer()\n",
        "label_list = lb.fit_transform(y)"
      ],
      "execution_count": 88,
      "outputs": []
    },
    {
      "cell_type": "code",
      "source": [
        "label_list"
      ],
      "metadata": {
        "colab": {
          "base_uri": "https://localhost:8080/"
        },
        "id": "Q2u9bB7NzT-F",
        "outputId": "da213056-1f07-4762-d9fa-620e6b7d1946"
      },
      "execution_count": 89,
      "outputs": [
        {
          "output_type": "execute_result",
          "data": {
            "text/plain": [
              "array([[0, 0, 0, ..., 0, 1, 0],\n",
              "       [0, 0, 0, ..., 0, 1, 0],\n",
              "       [0, 0, 0, ..., 0, 1, 0],\n",
              "       ...,\n",
              "       [0, 0, 0, ..., 0, 0, 0],\n",
              "       [0, 0, 0, ..., 0, 0, 0],\n",
              "       [0, 0, 0, ..., 0, 0, 0]])"
            ]
          },
          "metadata": {},
          "execution_count": 89
        }
      ]
    },
    {
      "cell_type": "code",
      "source": [
        "X"
      ],
      "metadata": {
        "colab": {
          "base_uri": "https://localhost:8080/"
        },
        "id": "m0Yg4gm8xaty",
        "outputId": "909140d4-7150-4f8c-8963-8bb560e6e524"
      },
      "execution_count": 90,
      "outputs": [
        {
          "output_type": "execute_result",
          "data": {
            "text/plain": [
              "array([[0.64285714, 0.26428571, 0.19      , ..., 0.79026683, 0.46626364,\n",
              "        0.65645778],\n",
              "       [0.60714286, 0.37857143, 0.18      , ..., 0.77063285, 0.54948026,\n",
              "        0.74167459],\n",
              "       [0.42857143, 0.35714286, 0.195     , ..., 0.79397664, 0.67421877,\n",
              "        0.87571039],\n",
              "       ...,\n",
              "       [0.84285714, 0.2       , 0.125     , ..., 0.61788046, 0.44443315,\n",
              "        0.55007079],\n",
              "       [0.83571429, 0.19285714, 0.145     , ..., 0.44175991, 0.50604494,\n",
              "        0.38428046],\n",
              "       [0.74285714, 0.09285714, 0.125     , ..., 0.53822177, 0.50931694,\n",
              "        0.43372112]])"
            ]
          },
          "metadata": {},
          "execution_count": 90
        }
      ]
    },
    {
      "cell_type": "code",
      "metadata": {
        "colab": {
          "base_uri": "https://localhost:8080/"
        },
        "id": "86iNXnOosyev",
        "outputId": "ab6977f9-1785-406a-8d90-c0f57ad08bf3"
      },
      "source": [
        "X.shape"
      ],
      "execution_count": 91,
      "outputs": [
        {
          "output_type": "execute_result",
          "data": {
            "text/plain": [
              "(2200, 7)"
            ]
          },
          "metadata": {},
          "execution_count": 91
        }
      ]
    },
    {
      "cell_type": "code",
      "metadata": {
        "id": "cC2eVIRNtTDS"
      },
      "source": [
        "from sklearn.preprocessing import MinMaxScaler\n",
        "sc = MinMaxScaler()\n",
        "X = sc.fit_transform(X)"
      ],
      "execution_count": 57,
      "outputs": []
    },
    {
      "cell_type": "code",
      "source": [
        "X"
      ],
      "metadata": {
        "colab": {
          "base_uri": "https://localhost:8080/"
        },
        "id": "6Mj27Y40HMWx",
        "outputId": "b544c4fa-d416-4516-a47b-01f44fff94fe"
      },
      "execution_count": 92,
      "outputs": [
        {
          "output_type": "execute_result",
          "data": {
            "text/plain": [
              "array([[0.64285714, 0.26428571, 0.19      , ..., 0.79026683, 0.46626364,\n",
              "        0.65645778],\n",
              "       [0.60714286, 0.37857143, 0.18      , ..., 0.77063285, 0.54948026,\n",
              "        0.74167459],\n",
              "       [0.42857143, 0.35714286, 0.195     , ..., 0.79397664, 0.67421877,\n",
              "        0.87571039],\n",
              "       ...,\n",
              "       [0.84285714, 0.2       , 0.125     , ..., 0.61788046, 0.44443315,\n",
              "        0.55007079],\n",
              "       [0.83571429, 0.19285714, 0.145     , ..., 0.44175991, 0.50604494,\n",
              "        0.38428046],\n",
              "       [0.74285714, 0.09285714, 0.125     , ..., 0.53822177, 0.50931694,\n",
              "        0.43372112]])"
            ]
          },
          "metadata": {},
          "execution_count": 92
        }
      ]
    },
    {
      "cell_type": "code",
      "metadata": {
        "id": "4Rm8KzZEszNu"
      },
      "source": [
        "from sklearn.model_selection import train_test_split\n",
        "X_train, X_test, Y_train, Y_test = train_test_split(X, label_list, test_size = 0.20, random_state=42)"
      ],
      "execution_count": 93,
      "outputs": []
    },
    {
      "cell_type": "code",
      "metadata": {
        "colab": {
          "base_uri": "https://localhost:8080/"
        },
        "id": "93ny_5Z_IPua",
        "outputId": "3f2ce718-e487-4363-e033-01101fe20841"
      },
      "source": [
        "X_train.shape"
      ],
      "execution_count": 94,
      "outputs": [
        {
          "output_type": "execute_result",
          "data": {
            "text/plain": [
              "(1760, 7)"
            ]
          },
          "metadata": {},
          "execution_count": 94
        }
      ]
    },
    {
      "cell_type": "code",
      "source": [
        "X_test.shape"
      ],
      "metadata": {
        "colab": {
          "base_uri": "https://localhost:8080/"
        },
        "id": "bL9BS8Cw1V7C",
        "outputId": "1d906203-d357-4752-960f-94bac6af0193"
      },
      "execution_count": 95,
      "outputs": [
        {
          "output_type": "execute_result",
          "data": {
            "text/plain": [
              "(440, 7)"
            ]
          },
          "metadata": {},
          "execution_count": 95
        }
      ]
    },
    {
      "cell_type": "code",
      "source": [
        "Y_train.shape"
      ],
      "metadata": {
        "colab": {
          "base_uri": "https://localhost:8080/"
        },
        "id": "xNVRpeAU0vh0",
        "outputId": "b07130ab-b857-4b20-f596-6ea195dd108d"
      },
      "execution_count": 96,
      "outputs": [
        {
          "output_type": "execute_result",
          "data": {
            "text/plain": [
              "(1760, 22)"
            ]
          },
          "metadata": {},
          "execution_count": 96
        }
      ]
    },
    {
      "cell_type": "code",
      "source": [
        "Y_test.shape"
      ],
      "metadata": {
        "colab": {
          "base_uri": "https://localhost:8080/"
        },
        "id": "B5OXSUtj1A3m",
        "outputId": "db6e35b8-e479-4abf-e93a-1fa2491713d2"
      },
      "execution_count": 97,
      "outputs": [
        {
          "output_type": "execute_result",
          "data": {
            "text/plain": [
              "(440, 22)"
            ]
          },
          "metadata": {},
          "execution_count": 97
        }
      ]
    },
    {
      "cell_type": "code",
      "source": [
        "from tensorflow.keras.models import Sequential\n",
        "from tensorflow.keras.layers import Dense"
      ],
      "metadata": {
        "id": "h3NIj51tzKRD"
      },
      "execution_count": 99,
      "outputs": []
    },
    {
      "cell_type": "code",
      "source": [
        "# define the keras model\n",
        "model = Sequential()\n",
        "model.add(Dense(10, input_dim=7, activation='relu'))\n",
        "model.add(Dense(14, activation='relu'))\n",
        "model.add(Dense(18, activation='relu'))\n",
        "\n",
        "model.add(Dense(22, activation='sigmoid'))\n",
        "# compile the keras model\n",
        "model.compile(loss='binary_crossentropy', optimizer='adam', metrics=['accuracy'])"
      ],
      "metadata": {
        "id": "MIpUNmrfzO2i"
      },
      "execution_count": 130,
      "outputs": []
    },
    {
      "cell_type": "code",
      "source": [
        "model.summary()"
      ],
      "metadata": {
        "colab": {
          "base_uri": "https://localhost:8080/"
        },
        "id": "CWP8p4aJz8YW",
        "outputId": "5e744a5b-29bb-43ca-a67b-fc52ba2007a8"
      },
      "execution_count": 131,
      "outputs": [
        {
          "output_type": "stream",
          "name": "stdout",
          "text": [
            "Model: \"sequential_10\"\n",
            "_________________________________________________________________\n",
            " Layer (type)                Output Shape              Param #   \n",
            "=================================================================\n",
            " dense_32 (Dense)            (None, 10)                80        \n",
            "                                                                 \n",
            " dense_33 (Dense)            (None, 14)                154       \n",
            "                                                                 \n",
            " dense_34 (Dense)            (None, 18)                270       \n",
            "                                                                 \n",
            " dense_35 (Dense)            (None, 22)                418       \n",
            "                                                                 \n",
            "=================================================================\n",
            "Total params: 922\n",
            "Trainable params: 922\n",
            "Non-trainable params: 0\n",
            "_________________________________________________________________\n"
          ]
        }
      ]
    },
    {
      "cell_type": "code",
      "source": [
        "history = model.fit(X_train,Y_train,epochs=100, batch_size=32)"
      ],
      "metadata": {
        "colab": {
          "base_uri": "https://localhost:8080/"
        },
        "id": "I1tKRqzr0TJR",
        "outputId": "d7f04aa8-1c6f-4961-8f7a-00216b2bacd1"
      },
      "execution_count": 132,
      "outputs": [
        {
          "output_type": "stream",
          "name": "stdout",
          "text": [
            "Epoch 1/100\n",
            "55/55 [==============================] - 1s 4ms/step - loss: 0.6522 - accuracy: 0.0403\n",
            "Epoch 2/100\n",
            "55/55 [==============================] - 0s 4ms/step - loss: 0.4134 - accuracy: 0.0432\n",
            "Epoch 3/100\n",
            "55/55 [==============================] - 0s 4ms/step - loss: 0.2153 - accuracy: 0.0443\n",
            "Epoch 4/100\n",
            "55/55 [==============================] - 0s 4ms/step - loss: 0.1935 - accuracy: 0.0602\n",
            "Epoch 5/100\n",
            "55/55 [==============================] - 0s 4ms/step - loss: 0.1886 - accuracy: 0.0614\n",
            "Epoch 6/100\n",
            "55/55 [==============================] - 0s 4ms/step - loss: 0.1867 - accuracy: 0.0420\n",
            "Epoch 7/100\n",
            "55/55 [==============================] - 0s 4ms/step - loss: 0.1853 - accuracy: 0.0688\n",
            "Epoch 8/100\n",
            "55/55 [==============================] - 0s 4ms/step - loss: 0.1841 - accuracy: 0.0801\n",
            "Epoch 9/100\n",
            "55/55 [==============================] - 0s 4ms/step - loss: 0.1826 - accuracy: 0.0898\n",
            "Epoch 10/100\n",
            "55/55 [==============================] - 0s 4ms/step - loss: 0.1808 - accuracy: 0.1040\n",
            "Epoch 11/100\n",
            "55/55 [==============================] - 0s 4ms/step - loss: 0.1786 - accuracy: 0.1483\n",
            "Epoch 12/100\n",
            "55/55 [==============================] - 0s 2ms/step - loss: 0.1755 - accuracy: 0.1591\n",
            "Epoch 13/100\n",
            "55/55 [==============================] - 0s 2ms/step - loss: 0.1704 - accuracy: 0.2045\n",
            "Epoch 14/100\n",
            "55/55 [==============================] - 0s 2ms/step - loss: 0.1638 - accuracy: 0.1875\n",
            "Epoch 15/100\n",
            "55/55 [==============================] - 0s 2ms/step - loss: 0.1564 - accuracy: 0.2244\n",
            "Epoch 16/100\n",
            "55/55 [==============================] - 0s 2ms/step - loss: 0.1494 - accuracy: 0.2392\n",
            "Epoch 17/100\n",
            "55/55 [==============================] - 0s 2ms/step - loss: 0.1431 - accuracy: 0.2801\n",
            "Epoch 18/100\n",
            "55/55 [==============================] - 0s 2ms/step - loss: 0.1378 - accuracy: 0.3244\n",
            "Epoch 19/100\n",
            "55/55 [==============================] - 0s 2ms/step - loss: 0.1331 - accuracy: 0.3835\n",
            "Epoch 20/100\n",
            "55/55 [==============================] - 0s 2ms/step - loss: 0.1283 - accuracy: 0.4159\n",
            "Epoch 21/100\n",
            "55/55 [==============================] - 0s 2ms/step - loss: 0.1239 - accuracy: 0.4886\n",
            "Epoch 22/100\n",
            "55/55 [==============================] - 0s 3ms/step - loss: 0.1196 - accuracy: 0.5222\n",
            "Epoch 23/100\n",
            "55/55 [==============================] - 0s 2ms/step - loss: 0.1154 - accuracy: 0.5591\n",
            "Epoch 24/100\n",
            "55/55 [==============================] - 0s 2ms/step - loss: 0.1114 - accuracy: 0.5642\n",
            "Epoch 25/100\n",
            "55/55 [==============================] - 0s 2ms/step - loss: 0.1071 - accuracy: 0.6028\n",
            "Epoch 26/100\n",
            "55/55 [==============================] - 0s 2ms/step - loss: 0.1024 - accuracy: 0.6426\n",
            "Epoch 27/100\n",
            "55/55 [==============================] - 0s 2ms/step - loss: 0.0978 - accuracy: 0.6750\n",
            "Epoch 28/100\n",
            "55/55 [==============================] - 0s 2ms/step - loss: 0.0932 - accuracy: 0.7119\n",
            "Epoch 29/100\n",
            "55/55 [==============================] - 0s 2ms/step - loss: 0.0892 - accuracy: 0.7392\n",
            "Epoch 30/100\n",
            "55/55 [==============================] - 0s 3ms/step - loss: 0.0851 - accuracy: 0.7472\n",
            "Epoch 31/100\n",
            "55/55 [==============================] - 0s 2ms/step - loss: 0.0817 - accuracy: 0.7653\n",
            "Epoch 32/100\n",
            "55/55 [==============================] - 0s 2ms/step - loss: 0.0782 - accuracy: 0.7898\n",
            "Epoch 33/100\n",
            "55/55 [==============================] - 0s 2ms/step - loss: 0.0752 - accuracy: 0.8045\n",
            "Epoch 34/100\n",
            "55/55 [==============================] - 0s 2ms/step - loss: 0.0725 - accuracy: 0.8062\n",
            "Epoch 35/100\n",
            "55/55 [==============================] - 0s 2ms/step - loss: 0.0698 - accuracy: 0.8199\n",
            "Epoch 36/100\n",
            "55/55 [==============================] - 0s 2ms/step - loss: 0.0673 - accuracy: 0.8398\n",
            "Epoch 37/100\n",
            "55/55 [==============================] - 0s 3ms/step - loss: 0.0651 - accuracy: 0.8381\n",
            "Epoch 38/100\n",
            "55/55 [==============================] - 0s 2ms/step - loss: 0.0628 - accuracy: 0.8506\n",
            "Epoch 39/100\n",
            "55/55 [==============================] - 0s 2ms/step - loss: 0.0609 - accuracy: 0.8580\n",
            "Epoch 40/100\n",
            "55/55 [==============================] - 0s 2ms/step - loss: 0.0590 - accuracy: 0.8670\n",
            "Epoch 41/100\n",
            "55/55 [==============================] - 0s 2ms/step - loss: 0.0573 - accuracy: 0.8653\n",
            "Epoch 42/100\n",
            "55/55 [==============================] - 0s 2ms/step - loss: 0.0556 - accuracy: 0.8682\n",
            "Epoch 43/100\n",
            "55/55 [==============================] - 0s 3ms/step - loss: 0.0538 - accuracy: 0.8739\n",
            "Epoch 44/100\n",
            "55/55 [==============================] - 0s 2ms/step - loss: 0.0523 - accuracy: 0.8898\n",
            "Epoch 45/100\n",
            "55/55 [==============================] - 0s 3ms/step - loss: 0.0506 - accuracy: 0.8903\n",
            "Epoch 46/100\n",
            "55/55 [==============================] - 0s 2ms/step - loss: 0.0491 - accuracy: 0.8869\n",
            "Epoch 47/100\n",
            "55/55 [==============================] - 0s 2ms/step - loss: 0.0475 - accuracy: 0.8989\n",
            "Epoch 48/100\n",
            "55/55 [==============================] - 0s 3ms/step - loss: 0.0464 - accuracy: 0.9006\n",
            "Epoch 49/100\n",
            "55/55 [==============================] - 0s 2ms/step - loss: 0.0446 - accuracy: 0.9017\n",
            "Epoch 50/100\n",
            "55/55 [==============================] - 0s 2ms/step - loss: 0.0431 - accuracy: 0.9153\n",
            "Epoch 51/100\n",
            "55/55 [==============================] - 0s 2ms/step - loss: 0.0418 - accuracy: 0.9131\n",
            "Epoch 52/100\n",
            "55/55 [==============================] - 0s 2ms/step - loss: 0.0403 - accuracy: 0.9222\n",
            "Epoch 53/100\n",
            "55/55 [==============================] - 0s 3ms/step - loss: 0.0392 - accuracy: 0.9205\n",
            "Epoch 54/100\n",
            "55/55 [==============================] - 0s 2ms/step - loss: 0.0377 - accuracy: 0.9239\n",
            "Epoch 55/100\n",
            "55/55 [==============================] - 0s 2ms/step - loss: 0.0365 - accuracy: 0.9261\n",
            "Epoch 56/100\n",
            "55/55 [==============================] - 0s 2ms/step - loss: 0.0352 - accuracy: 0.9278\n",
            "Epoch 57/100\n",
            "55/55 [==============================] - 0s 3ms/step - loss: 0.0343 - accuracy: 0.9261\n",
            "Epoch 58/100\n",
            "55/55 [==============================] - 0s 2ms/step - loss: 0.0333 - accuracy: 0.9295\n",
            "Epoch 59/100\n",
            "55/55 [==============================] - 0s 2ms/step - loss: 0.0323 - accuracy: 0.9381\n",
            "Epoch 60/100\n",
            "55/55 [==============================] - 0s 2ms/step - loss: 0.0315 - accuracy: 0.9386\n",
            "Epoch 61/100\n",
            "55/55 [==============================] - 0s 2ms/step - loss: 0.0308 - accuracy: 0.9386\n",
            "Epoch 62/100\n",
            "55/55 [==============================] - 0s 2ms/step - loss: 0.0298 - accuracy: 0.9398\n",
            "Epoch 63/100\n",
            "55/55 [==============================] - 0s 2ms/step - loss: 0.0292 - accuracy: 0.9420\n",
            "Epoch 64/100\n",
            "55/55 [==============================] - 0s 2ms/step - loss: 0.0285 - accuracy: 0.9392\n",
            "Epoch 65/100\n",
            "55/55 [==============================] - 0s 3ms/step - loss: 0.0281 - accuracy: 0.9420\n",
            "Epoch 66/100\n",
            "55/55 [==============================] - 0s 2ms/step - loss: 0.0275 - accuracy: 0.9443\n",
            "Epoch 67/100\n",
            "55/55 [==============================] - 0s 3ms/step - loss: 0.0270 - accuracy: 0.9438\n",
            "Epoch 68/100\n",
            "55/55 [==============================] - 0s 2ms/step - loss: 0.0264 - accuracy: 0.9466\n",
            "Epoch 69/100\n",
            "55/55 [==============================] - 0s 3ms/step - loss: 0.0260 - accuracy: 0.9438\n",
            "Epoch 70/100\n",
            "55/55 [==============================] - 0s 2ms/step - loss: 0.0256 - accuracy: 0.9443\n",
            "Epoch 71/100\n",
            "55/55 [==============================] - 0s 2ms/step - loss: 0.0253 - accuracy: 0.9494\n",
            "Epoch 72/100\n",
            "55/55 [==============================] - 0s 2ms/step - loss: 0.0249 - accuracy: 0.9449\n",
            "Epoch 73/100\n",
            "55/55 [==============================] - 0s 3ms/step - loss: 0.0244 - accuracy: 0.9494\n",
            "Epoch 74/100\n",
            "55/55 [==============================] - 0s 2ms/step - loss: 0.0240 - accuracy: 0.9489\n",
            "Epoch 75/100\n",
            "55/55 [==============================] - 0s 2ms/step - loss: 0.0238 - accuracy: 0.9472\n",
            "Epoch 76/100\n",
            "55/55 [==============================] - 0s 2ms/step - loss: 0.0236 - accuracy: 0.9483\n",
            "Epoch 77/100\n",
            "55/55 [==============================] - 0s 2ms/step - loss: 0.0232 - accuracy: 0.9506\n",
            "Epoch 78/100\n",
            "55/55 [==============================] - 0s 2ms/step - loss: 0.0228 - accuracy: 0.9483\n",
            "Epoch 79/100\n",
            "55/55 [==============================] - 0s 2ms/step - loss: 0.0225 - accuracy: 0.9528\n",
            "Epoch 80/100\n",
            "55/55 [==============================] - 0s 2ms/step - loss: 0.0223 - accuracy: 0.9517\n",
            "Epoch 81/100\n",
            "55/55 [==============================] - 0s 3ms/step - loss: 0.0220 - accuracy: 0.9534\n",
            "Epoch 82/100\n",
            "55/55 [==============================] - 0s 3ms/step - loss: 0.0219 - accuracy: 0.9563\n",
            "Epoch 83/100\n",
            "55/55 [==============================] - 0s 2ms/step - loss: 0.0217 - accuracy: 0.9551\n",
            "Epoch 84/100\n",
            "55/55 [==============================] - 0s 3ms/step - loss: 0.0214 - accuracy: 0.9557\n",
            "Epoch 85/100\n",
            "55/55 [==============================] - 0s 4ms/step - loss: 0.0213 - accuracy: 0.9540\n",
            "Epoch 86/100\n",
            "55/55 [==============================] - 0s 4ms/step - loss: 0.0211 - accuracy: 0.9568\n",
            "Epoch 87/100\n",
            "55/55 [==============================] - 0s 4ms/step - loss: 0.0207 - accuracy: 0.9574\n",
            "Epoch 88/100\n",
            "55/55 [==============================] - 0s 4ms/step - loss: 0.0205 - accuracy: 0.9551\n",
            "Epoch 89/100\n",
            "55/55 [==============================] - 0s 4ms/step - loss: 0.0204 - accuracy: 0.9602\n",
            "Epoch 90/100\n",
            "55/55 [==============================] - 0s 4ms/step - loss: 0.0202 - accuracy: 0.9597\n",
            "Epoch 91/100\n",
            "55/55 [==============================] - 0s 4ms/step - loss: 0.0201 - accuracy: 0.9574\n",
            "Epoch 92/100\n",
            "55/55 [==============================] - 0s 4ms/step - loss: 0.0199 - accuracy: 0.9602\n",
            "Epoch 93/100\n",
            "55/55 [==============================] - 0s 4ms/step - loss: 0.0199 - accuracy: 0.9619\n",
            "Epoch 94/100\n",
            "55/55 [==============================] - 0s 4ms/step - loss: 0.0196 - accuracy: 0.9591\n",
            "Epoch 95/100\n",
            "55/55 [==============================] - 0s 4ms/step - loss: 0.0194 - accuracy: 0.9602\n",
            "Epoch 96/100\n",
            "55/55 [==============================] - 0s 4ms/step - loss: 0.0193 - accuracy: 0.9585\n",
            "Epoch 97/100\n",
            "55/55 [==============================] - 0s 4ms/step - loss: 0.0192 - accuracy: 0.9597\n",
            "Epoch 98/100\n",
            "55/55 [==============================] - 0s 4ms/step - loss: 0.0189 - accuracy: 0.9670\n",
            "Epoch 99/100\n",
            "55/55 [==============================] - 0s 4ms/step - loss: 0.0187 - accuracy: 0.9597\n",
            "Epoch 100/100\n",
            "55/55 [==============================] - 0s 4ms/step - loss: 0.0188 - accuracy: 0.9597\n"
          ]
        }
      ]
    },
    {
      "cell_type": "code",
      "source": [
        "acc = history.history['accuracy']\n",
        "loss = history.history['loss']"
      ],
      "metadata": {
        "id": "h_GB_En311iJ"
      },
      "execution_count": 133,
      "outputs": []
    },
    {
      "cell_type": "code",
      "source": [
        "from matplotlib import pyplot as plt\n",
        "#plot training and validation accuracy\n",
        "plt.plot(history.history['accuracy'])\n",
        "#plt.plot(history.history['val_accuracy'])\n",
        "plt.title('model accuracy')\n",
        "plt.ylabel('accuracy')\n",
        "plt.xlabel('epoch')\n",
        "plt.legend(['train'], loc='upper left')\n",
        "plt.show()\n",
        "plt.savefig('accuracy_curve.png')"
      ],
      "metadata": {
        "colab": {
          "base_uri": "https://localhost:8080/",
          "height": 312
        },
        "id": "st9D-hQ12ftq",
        "outputId": "5588fc29-61db-4fc3-9b55-d13ae0bd33b5"
      },
      "execution_count": 134,
      "outputs": [
        {
          "output_type": "display_data",
          "data": {
            "text/plain": [
              "<Figure size 432x288 with 1 Axes>"
            ],
            "image/png": "[encoded data removed]"
          },
          "metadata": {
            "needs_background": "light"
          }
        },
        {
          "output_type": "display_data",
          "data": {
            "text/plain": [
              "<Figure size 432x288 with 0 Axes>"
            ]
          },
          "metadata": {}
        }
      ]
    },
    {
      "cell_type": "code",
      "source": [
        "#plot training loss\n",
        "plt.plot(history.history['loss'])\n",
        "plt.plot()\n",
        "plt.title('model loss')\n",
        "plt.ylabel('loss')\n",
        "plt.xlabel('epoch')\n",
        "plt.legend(['train'], loc='upper left')\n",
        "plt.show()\n",
        "plt.savefig('loss_curve.png')"
      ],
      "metadata": {
        "colab": {
          "base_uri": "https://localhost:8080/",
          "height": 312
        },
        "id": "OIMEHqwH25fW",
        "outputId": "199d6a59-44fe-4651-ae67-4a9df8b7f61b"
      },
      "execution_count": 135,
      "outputs": [
        {
          "output_type": "display_data",
          "data": {
            "text/plain": [
              "<Figure size 432x288 with 1 Axes>"
            ],
            "image/png": "[encoded data removed]"
          },
          "metadata": {
            "needs_background": "light"
          }
        },
        {
          "output_type": "display_data",
          "data": {
            "text/plain": [
              "<Figure size 432x288 with 0 Axes>"
            ]
          },
          "metadata": {}
        }
      ]
    },
    {
      "cell_type": "code",
      "source": [
        "history_test = model.evaluate(X_test,Y_test)"
      ],
      "metadata": {
        "colab": {
          "base_uri": "https://localhost:8080/"
        },
        "id": "9aj1HD7b3v_Y",
        "outputId": "d0c9297a-1a3a-41ee-897b-4c6ec7d32616"
      },
      "execution_count": 136,
      "outputs": [
        {
          "output_type": "stream",
          "name": "stdout",
          "text": [
            "14/14 [==============================] - 0s 3ms/step - loss: 0.0260 - accuracy: 0.9364\n"
          ]
        }
      ]
    },
    {
      "cell_type": "code",
      "source": [
        "history_test"
      ],
      "metadata": {
        "colab": {
          "base_uri": "https://localhost:8080/"
        },
        "id": "2r-SSG2q4zkd",
        "outputId": "b71112d6-7a99-4f76-9b63-edea115ce439"
      },
      "execution_count": 137,
      "outputs": [
        {
          "output_type": "execute_result",
          "data": {
            "text/plain": [
              "[0.02600356750190258, 0.9363636374473572]"
            ]
          },
          "metadata": {},
          "execution_count": 137
        }
      ]
    },
    {
      "cell_type": "markdown",
      "metadata": {
        "id": "CHeqjnqOt86D"
      },
      "source": [
        "Now we have to create and train the K Nearest Neighbor model with the training set. We are using 3 parameters in the model creation. n_neighbors is setting as 5, which means 5 neighborhood points are required for classifying a given point. The distance metric we are using is Minkowski,"
      ]
    },
    {
      "cell_type": "markdown",
      "metadata": {
        "id": "ppm1VrVyvn5Z"
      },
      "source": [
        "Our Model is created, now we have to predict the output for the test set"
      ]
    },
    {
      "cell_type": "code",
      "metadata": {
        "id": "REbRf1fsuR8Z"
      },
      "source": [
        "y_pred = classifier.predict(X_test)"
      ],
      "execution_count": null,
      "outputs": []
    },
    {
      "cell_type": "code",
      "metadata": {
        "colab": {
          "base_uri": "https://localhost:8080/"
        },
        "id": "tE-fNFpFvsvj",
        "outputId": "542d8251-2b33-4136-f2ee-2ef067b6d3e9"
      },
      "source": [
        "y_pred"
      ],
      "execution_count": null,
      "outputs": [
        {
          "output_type": "execute_result",
          "data": {
            "text/plain": [
              "array([1, 1, 0, 1, 0, 0, 1, 0, 0, 0, 0, 1, 0, 0, 0, 1, 1, 0, 0, 1, 0, 0,\n",
              "       1, 1, 0, 1, 0, 0, 1, 0, 1, 0, 1, 0, 1, 0, 0, 0, 0, 0, 1, 0, 0, 1,\n",
              "       0, 1, 0, 0, 1, 0, 0, 1, 0, 0, 0, 0, 1, 1, 0, 0, 0, 0, 1, 0, 0, 1,\n",
              "       0, 1, 0, 1, 1, 0, 0, 0, 1, 0, 1, 1, 0, 0])"
            ]
          },
          "metadata": {},
          "execution_count": 31
        }
      ]
    },
    {
      "cell_type": "code",
      "metadata": {
        "colab": {
          "base_uri": "https://localhost:8080/"
        },
        "id": "JJx6VUodL66B",
        "outputId": "304687e9-5ffb-48b5-dee5-f6e4155ee157"
      },
      "source": [
        "y_test"
      ],
      "execution_count": null,
      "outputs": [
        {
          "output_type": "execute_result",
          "data": {
            "text/plain": [
              "array([0, 1, 0, 1, 0, 0, 1, 0, 0, 0, 0, 1, 0, 0, 0, 0, 1, 0, 0, 1, 0, 0,\n",
              "       1, 1, 0, 1, 0, 0, 1, 0, 1, 0, 1, 0, 1, 0, 0, 0, 0, 0, 1, 0, 0, 1,\n",
              "       0, 1, 0, 0, 1, 0, 0, 1, 0, 0, 0, 0, 1, 0, 0, 0, 0, 0, 1, 0, 0, 1,\n",
              "       1, 1, 0, 0, 1, 0, 0, 0, 1, 0, 1, 1, 0, 1])"
            ]
          },
          "metadata": {},
          "execution_count": 32
        }
      ]
    },
    {
      "cell_type": "markdown",
      "metadata": {
        "id": "8xH6cqvsv0lH"
      },
      "source": [
        "We can evaluate our model using the confusion matrix and accuracy score by comparing the predicted and actual test values"
      ]
    },
    {
      "cell_type": "code",
      "metadata": {
        "id": "KrzJ57HXvuUl"
      },
      "source": [
        "from sklearn.metrics import confusion_matrix,accuracy_score\n",
        "cm = confusion_matrix(y_test, y_pred)\n",
        "ac = accuracy_score(y_test,y_pred)"
      ],
      "execution_count": null,
      "outputs": []
    },
    {
      "cell_type": "code",
      "metadata": {
        "colab": {
          "base_uri": "https://localhost:8080/"
        },
        "id": "8yASF0Dav6MU",
        "outputId": "f1fc715a-462b-499d-bd4c-e4f9dc3196bb"
      },
      "source": [
        "print(cm)"
      ],
      "execution_count": null,
      "outputs": [
        {
          "output_type": "stream",
          "name": "stdout",
          "text": [
            "[[48  4]\n",
            " [ 2 26]]\n"
          ]
        }
      ]
    },
    {
      "cell_type": "code",
      "metadata": {
        "colab": {
          "base_uri": "https://localhost:8080/"
        },
        "id": "j6sC71m5v8gc",
        "outputId": "95cda4da-6d23-48a3-c4fc-d682b00d11ba"
      },
      "source": [
        "print(ac)"
      ],
      "execution_count": null,
      "outputs": [
        {
          "output_type": "stream",
          "name": "stdout",
          "text": [
            "0.925\n"
          ]
        }
      ]
    },
    {
      "cell_type": "code",
      "metadata": {
        "id": "BzbXd6Mqv-gO"
      },
      "source": [],
      "execution_count": null,
      "outputs": []
    }
  ]
}