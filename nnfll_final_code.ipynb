{
  "nbformat": 4,
  "nbformat_minor": 0,
  "metadata": {
    "colab": {
      "provenance": [],
      "include_colab_link": true
    },
    "kernelspec": {
      "name": "python3",
      "display_name": "Python 3"
    },
    "language_info": {
      "name": "python"
    },
    "gpuClass": "standard",
    "accelerator": "GPU"
  },
  "cells": [
    {
      "cell_type": "markdown",
      "metadata": {
        "id": "view-in-github",
        "colab_type": "text"
      },
      "source": [
        "<a href=\"https://colab.research.google.com/github/mohiuhere/nnfll/blob/main/nnfll_final_code.ipynb\" target=\"_parent\"><img src=\"https://colab.research.google.com/assets/colab-badge.svg\" alt=\"Open In Colab\"/></a>"
      ]
    },
    {
      "cell_type": "code",
      "metadata": {
        "colab": {
          "base_uri": "https://localhost:8080/"
        },
        "id": "9SklLiVzraUz",
        "outputId": "365ab85b-c69a-45b2-c513-b6918da57772"
      },
      "source": [
        "from google.colab import drive\n",
        "drive.mount('/content/drive')"
      ],
      "execution_count": 5,
      "outputs": [
        {
          "output_type": "stream",
          "name": "stdout",
          "text": [
            "Drive already mounted at /content/drive; to attempt to forcibly remount, call drive.mount(\"/content/drive\", force_remount=True).\n"
          ]
        }
      ]
    },
    {
      "cell_type": "code",
      "metadata": {
        "id": "9owEFokCr_Cv"
      },
      "source": [
        "import numpy as np\n",
        "import pandas as pd  "
      ],
      "execution_count": 6,
      "outputs": []
    },
    {
      "cell_type": "code",
      "metadata": {
        "id": "RtlftJ5msGee"
      },
      "source": [
        "dataset = pd.read_csv('/content/drive/MyDrive/nnfll_dataset/Crop_recommendation.csv')"
      ],
      "execution_count": 7,
      "outputs": []
    },
    {
      "cell_type": "code",
      "metadata": {
        "colab": {
          "base_uri": "https://localhost:8080/",
          "height": 423
        },
        "id": "GxQQp2ulBBEt",
        "outputId": "12e6ec4a-4408-4eb8-c149-3686d4e12346"
      },
      "source": [
        "dataset"
      ],
      "execution_count": 8,
      "outputs": [
        {
          "output_type": "execute_result",
          "data": {
            "text/plain": [
              "        N   P   K  temperature   humidity        ph    rainfall   label\n",
              "0      90  42  43    20.879744  82.002744  6.502985  202.935536    rice\n",
              "1      85  58  41    21.770462  80.319644  7.038096  226.655537    rice\n",
              "2      60  55  44    23.004459  82.320763  7.840207  263.964248    rice\n",
              "3      74  35  40    26.491096  80.158363  6.980401  242.864034    rice\n",
              "4      78  42  42    20.130175  81.604873  7.628473  262.717340    rice\n",
              "...   ...  ..  ..          ...        ...       ...         ...     ...\n",
              "2195  107  34  32    26.774637  66.413269  6.780064  177.774507  coffee\n",
              "2196   99  15  27    27.417112  56.636362  6.086922  127.924610  coffee\n",
              "2197  118  33  30    24.131797  67.225123  6.362608  173.322839  coffee\n",
              "2198  117  32  34    26.272418  52.127394  6.758793  127.175293  coffee\n",
              "2199  104  18  30    23.603016  60.396475  6.779833  140.937041  coffee\n",
              "\n",
              "[2200 rows x 8 columns]"
            ],
            "text/html": [
              "\n",
              "  <div id=\"df-0b07a6bf-d79a-4d71-b002-8acd923e6dfb\">\n",
              "    <div class=\"colab-df-container\">\n",
              "      <div>\n",
              "<style scoped>\n",
              "    .dataframe tbody tr th:only-of-type {\n",
              "        vertical-align: middle;\n",
              "    }\n",
              "\n",
              "    .dataframe tbody tr th {\n",
              "        vertical-align: top;\n",
              "    }\n",
              "\n",
              "    .dataframe thead th {\n",
              "        text-align: right;\n",
              "    }\n",
              "</style>\n",
              "<table border=\"1\" class=\"dataframe\">\n",
              "  <thead>\n",
              "    <tr style=\"text-align: right;\">\n",
              "      <th></th>\n",
              "      <th>N</th>\n",
              "      <th>P</th>\n",
              "      <th>K</th>\n",
              "      <th>temperature</th>\n",
              "      <th>humidity</th>\n",
              "      <th>ph</th>\n",
              "      <th>rainfall</th>\n",
              "      <th>label</th>\n",
              "    </tr>\n",
              "  </thead>\n",
              "  <tbody>\n",
              "    <tr>\n",
              "      <th>0</th>\n",
              "      <td>90</td>\n",
              "      <td>42</td>\n",
              "      <td>43</td>\n",
              "      <td>20.879744</td>\n",
              "      <td>82.002744</td>\n",
              "      <td>6.502985</td>\n",
              "      <td>202.935536</td>\n",
              "      <td>rice</td>\n",
              "    </tr>\n",
              "    <tr>\n",
              "      <th>1</th>\n",
              "      <td>85</td>\n",
              "      <td>58</td>\n",
              "      <td>41</td>\n",
              "      <td>21.770462</td>\n",
              "      <td>80.319644</td>\n",
              "      <td>7.038096</td>\n",
              "      <td>226.655537</td>\n",
              "      <td>rice</td>\n",
              "    </tr>\n",
              "    <tr>\n",
              "      <th>2</th>\n",
              "      <td>60</td>\n",
              "      <td>55</td>\n",
              "      <td>44</td>\n",
              "      <td>23.004459</td>\n",
              "      <td>82.320763</td>\n",
              "      <td>7.840207</td>\n",
              "      <td>263.964248</td>\n",
              "      <td>rice</td>\n",
              "    </tr>\n",
              "    <tr>\n",
              "      <th>3</th>\n",
              "      <td>74</td>\n",
              "      <td>35</td>\n",
              "      <td>40</td>\n",
              "      <td>26.491096</td>\n",
              "      <td>80.158363</td>\n",
              "      <td>6.980401</td>\n",
              "      <td>242.864034</td>\n",
              "      <td>rice</td>\n",
              "    </tr>\n",
              "    <tr>\n",
              "      <th>4</th>\n",
              "      <td>78</td>\n",
              "      <td>42</td>\n",
              "      <td>42</td>\n",
              "      <td>20.130175</td>\n",
              "      <td>81.604873</td>\n",
              "      <td>7.628473</td>\n",
              "      <td>262.717340</td>\n",
              "      <td>rice</td>\n",
              "    </tr>\n",
              "    <tr>\n",
              "      <th>...</th>\n",
              "      <td>...</td>\n",
              "      <td>...</td>\n",
              "      <td>...</td>\n",
              "      <td>...</td>\n",
              "      <td>...</td>\n",
              "      <td>...</td>\n",
              "      <td>...</td>\n",
              "      <td>...</td>\n",
              "    </tr>\n",
              "    <tr>\n",
              "      <th>2195</th>\n",
              "      <td>107</td>\n",
              "      <td>34</td>\n",
              "      <td>32</td>\n",
              "      <td>26.774637</td>\n",
              "      <td>66.413269</td>\n",
              "      <td>6.780064</td>\n",
              "      <td>177.774507</td>\n",
              "      <td>coffee</td>\n",
              "    </tr>\n",
              "    <tr>\n",
              "      <th>2196</th>\n",
              "      <td>99</td>\n",
              "      <td>15</td>\n",
              "      <td>27</td>\n",
              "      <td>27.417112</td>\n",
              "      <td>56.636362</td>\n",
              "      <td>6.086922</td>\n",
              "      <td>127.924610</td>\n",
              "      <td>coffee</td>\n",
              "    </tr>\n",
              "    <tr>\n",
              "      <th>2197</th>\n",
              "      <td>118</td>\n",
              "      <td>33</td>\n",
              "      <td>30</td>\n",
              "      <td>24.131797</td>\n",
              "      <td>67.225123</td>\n",
              "      <td>6.362608</td>\n",
              "      <td>173.322839</td>\n",
              "      <td>coffee</td>\n",
              "    </tr>\n",
              "    <tr>\n",
              "      <th>2198</th>\n",
              "      <td>117</td>\n",
              "      <td>32</td>\n",
              "      <td>34</td>\n",
              "      <td>26.272418</td>\n",
              "      <td>52.127394</td>\n",
              "      <td>6.758793</td>\n",
              "      <td>127.175293</td>\n",
              "      <td>coffee</td>\n",
              "    </tr>\n",
              "    <tr>\n",
              "      <th>2199</th>\n",
              "      <td>104</td>\n",
              "      <td>18</td>\n",
              "      <td>30</td>\n",
              "      <td>23.603016</td>\n",
              "      <td>60.396475</td>\n",
              "      <td>6.779833</td>\n",
              "      <td>140.937041</td>\n",
              "      <td>coffee</td>\n",
              "    </tr>\n",
              "  </tbody>\n",
              "</table>\n",
              "<p>2200 rows × 8 columns</p>\n",
              "</div>\n",
              "      <button class=\"colab-df-convert\" onclick=\"convertToInteractive('df-0b07a6bf-d79a-4d71-b002-8acd923e6dfb')\"\n",
              "              title=\"Convert this dataframe to an interactive table.\"\n",
              "              style=\"display:none;\">\n",
              "        \n",
              "  <svg xmlns=\"http://www.w3.org/2000/svg\" height=\"24px\"viewBox=\"0 0 24 24\"\n",
              "       width=\"24px\">\n",
              "    <path d=\"M0 0h24v24H0V0z\" fill=\"none\"/>\n",
              "    <path d=\"M18.56 5.44l.94 2.06.94-2.06 2.06-.94-2.06-.94-.94-2.06-.94 2.06-2.06.94zm-11 1L8.5 8.5l.94-2.06 2.06-.94-2.06-.94L8.5 2.5l-.94 2.06-2.06.94zm10 10l.94 2.06.94-2.06 2.06-.94-2.06-.94-.94-2.06-.94 2.06-2.06.94z\"/><path d=\"M17.41 7.96l-1.37-1.37c-.4-.4-.92-.59-1.43-.59-.52 0-1.04.2-1.43.59L10.3 9.45l-7.72 7.72c-.78.78-.78 2.05 0 2.83L4 21.41c.39.39.9.59 1.41.59.51 0 1.02-.2 1.41-.59l7.78-7.78 2.81-2.81c.8-.78.8-2.07 0-2.86zM5.41 20L4 18.59l7.72-7.72 1.47 1.35L5.41 20z\"/>\n",
              "  </svg>\n",
              "      </button>\n",
              "      \n",
              "  <style>\n",
              "    .colab-df-container {\n",
              "      display:flex;\n",
              "      flex-wrap:wrap;\n",
              "      gap: 12px;\n",
              "    }\n",
              "\n",
              "    .colab-df-convert {\n",
              "      background-color: #E8F0FE;\n",
              "      border: none;\n",
              "      border-radius: 50%;\n",
              "      cursor: pointer;\n",
              "      display: none;\n",
              "      fill: #1967D2;\n",
              "      height: 32px;\n",
              "      padding: 0 0 0 0;\n",
              "      width: 32px;\n",
              "    }\n",
              "\n",
              "    .colab-df-convert:hover {\n",
              "      background-color: #E2EBFA;\n",
              "      box-shadow: 0px 1px 2px rgba(60, 64, 67, 0.3), 0px 1px 3px 1px rgba(60, 64, 67, 0.15);\n",
              "      fill: #174EA6;\n",
              "    }\n",
              "\n",
              "    [theme=dark] .colab-df-convert {\n",
              "      background-color: #3B4455;\n",
              "      fill: #D2E3FC;\n",
              "    }\n",
              "\n",
              "    [theme=dark] .colab-df-convert:hover {\n",
              "      background-color: #434B5C;\n",
              "      box-shadow: 0px 1px 3px 1px rgba(0, 0, 0, 0.15);\n",
              "      filter: drop-shadow(0px 1px 2px rgba(0, 0, 0, 0.3));\n",
              "      fill: #FFFFFF;\n",
              "    }\n",
              "  </style>\n",
              "\n",
              "      <script>\n",
              "        const buttonEl =\n",
              "          document.querySelector('#df-0b07a6bf-d79a-4d71-b002-8acd923e6dfb button.colab-df-convert');\n",
              "        buttonEl.style.display =\n",
              "          google.colab.kernel.accessAllowed ? 'block' : 'none';\n",
              "\n",
              "        async function convertToInteractive(key) {\n",
              "          const element = document.querySelector('#df-0b07a6bf-d79a-4d71-b002-8acd923e6dfb');\n",
              "          const dataTable =\n",
              "            await google.colab.kernel.invokeFunction('convertToInteractive',\n",
              "                                                     [key], {});\n",
              "          if (!dataTable) return;\n",
              "\n",
              "          const docLinkHtml = 'Like what you see? Visit the ' +\n",
              "            '<a target=\"_blank\" href=https://colab.research.google.com/notebooks/data_table.ipynb>data table notebook</a>'\n",
              "            + ' to learn more about interactive tables.';\n",
              "          element.innerHTML = '';\n",
              "          dataTable['output_type'] = 'display_data';\n",
              "          await google.colab.output.renderOutput(dataTable, element);\n",
              "          const docLink = document.createElement('div');\n",
              "          docLink.innerHTML = docLinkHtml;\n",
              "          element.appendChild(docLink);\n",
              "        }\n",
              "      </script>\n",
              "    </div>\n",
              "  </div>\n",
              "  "
            ]
          },
          "metadata": {},
          "execution_count": 8
        }
      ]
    },
    {
      "cell_type": "code",
      "source": [
        "dataset['label'].unique()"
      ],
      "metadata": {
        "colab": {
          "base_uri": "https://localhost:8080/"
        },
        "id": "aaIibSWcII05",
        "outputId": "537621c7-1743-42d3-dd53-47d94b5cae35"
      },
      "execution_count": 9,
      "outputs": [
        {
          "output_type": "execute_result",
          "data": {
            "text/plain": [
              "array(['rice', 'maize', 'chickpea', 'kidneybeans', 'pigeonpeas',\n",
              "       'mothbeans', 'mungbean', 'blackgram', 'lentil', 'pomegranate',\n",
              "       'banana', 'mango', 'grapes', 'watermelon', 'muskmelon', 'apple',\n",
              "       'orange', 'papaya', 'coconut', 'cotton', 'jute', 'coffee'],\n",
              "      dtype=object)"
            ]
          },
          "metadata": {},
          "execution_count": 9
        }
      ]
    },
    {
      "cell_type": "code",
      "source": [
        "dataset['label'].value_counts()"
      ],
      "metadata": {
        "colab": {
          "base_uri": "https://localhost:8080/"
        },
        "id": "Bmn_9d3tHmDq",
        "outputId": "024bfc72-0f73-4b7d-d945-280b9610ed58"
      },
      "execution_count": 10,
      "outputs": [
        {
          "output_type": "execute_result",
          "data": {
            "text/plain": [
              "rice           100\n",
              "maize          100\n",
              "jute           100\n",
              "cotton         100\n",
              "coconut        100\n",
              "papaya         100\n",
              "orange         100\n",
              "apple          100\n",
              "muskmelon      100\n",
              "watermelon     100\n",
              "grapes         100\n",
              "mango          100\n",
              "banana         100\n",
              "pomegranate    100\n",
              "lentil         100\n",
              "blackgram      100\n",
              "mungbean       100\n",
              "mothbeans      100\n",
              "pigeonpeas     100\n",
              "kidneybeans    100\n",
              "chickpea       100\n",
              "coffee         100\n",
              "Name: label, dtype: int64"
            ]
          },
          "metadata": {},
          "execution_count": 10
        }
      ]
    },
    {
      "cell_type": "code",
      "source": [
        "x = dataset.iloc[ :,[0, 1, 2, 3, 4, 5, 6]].values\n",
        "y = dataset.iloc[ :, -1].values"
      ],
      "metadata": {
        "id": "5p5tpPKIEHKx"
      },
      "execution_count": 11,
      "outputs": []
    },
    {
      "cell_type": "code",
      "source": [
        "x.shape"
      ],
      "metadata": {
        "colab": {
          "base_uri": "https://localhost:8080/"
        },
        "id": "HMeP0buf7QVP",
        "outputId": "ee23dff2-66b1-4db9-9f1e-20e4a8c1bb9b"
      },
      "execution_count": 12,
      "outputs": [
        {
          "output_type": "execute_result",
          "data": {
            "text/plain": [
              "(2200, 7)"
            ]
          },
          "metadata": {},
          "execution_count": 12
        }
      ]
    },
    {
      "cell_type": "code",
      "source": [
        "x"
      ],
      "metadata": {
        "id": "k5OEPZAaw5BT",
        "colab": {
          "base_uri": "https://localhost:8080/"
        },
        "outputId": "c3e19e48-f4f3-420a-da4e-37e4a26bb6e9"
      },
      "execution_count": 13,
      "outputs": [
        {
          "output_type": "execute_result",
          "data": {
            "text/plain": [
              "array([[ 90.        ,  42.        ,  43.        , ...,  82.00274423,\n",
              "          6.50298529, 202.9355362 ],\n",
              "       [ 85.        ,  58.        ,  41.        , ...,  80.31964408,\n",
              "          7.03809636, 226.6555374 ],\n",
              "       [ 60.        ,  55.        ,  44.        , ...,  82.3207629 ,\n",
              "          7.84020714, 263.9642476 ],\n",
              "       ...,\n",
              "       [118.        ,  33.        ,  30.        , ...,  67.22512329,\n",
              "          6.36260785, 173.3228386 ],\n",
              "       [117.        ,  32.        ,  34.        , ...,  52.12739421,\n",
              "          6.75879255, 127.1752928 ],\n",
              "       [104.        ,  18.        ,  30.        , ...,  60.39647474,\n",
              "          6.77983261, 140.9370415 ]])"
            ]
          },
          "metadata": {},
          "execution_count": 13
        }
      ]
    },
    {
      "cell_type": "code",
      "source": [
        "y.shape"
      ],
      "metadata": {
        "colab": {
          "base_uri": "https://localhost:8080/"
        },
        "id": "PQisQUdBKPxn",
        "outputId": "4a5e42b1-8319-4e3f-b29a-2a2db1be34ff"
      },
      "execution_count": 14,
      "outputs": [
        {
          "output_type": "execute_result",
          "data": {
            "text/plain": [
              "(2200,)"
            ]
          },
          "metadata": {},
          "execution_count": 14
        }
      ]
    },
    {
      "cell_type": "code",
      "metadata": {
        "colab": {
          "base_uri": "https://localhost:8080/"
        },
        "id": "acZ46Rx0skqB",
        "outputId": "659857fc-86ce-43c7-dd20-82e3029aef90"
      },
      "source": [
        "y"
      ],
      "execution_count": 15,
      "outputs": [
        {
          "output_type": "execute_result",
          "data": {
            "text/plain": [
              "array(['rice', 'rice', 'rice', ..., 'coffee', 'coffee', 'coffee'],\n",
              "      dtype=object)"
            ]
          },
          "metadata": {},
          "execution_count": 15
        }
      ]
    },
    {
      "cell_type": "code",
      "metadata": {
        "id": "EqJEzQYysoWE",
        "colab": {
          "base_uri": "https://localhost:8080/"
        },
        "outputId": "94c4ea53-a6e8-440b-8457-aa0c8524149a"
      },
      "source": [
        "from sklearn.preprocessing import LabelBinarizer\n",
        "lb = LabelBinarizer()\n",
        "Y = lb.fit_transform(y)\n",
        "Y"
      ],
      "execution_count": 16,
      "outputs": [
        {
          "output_type": "execute_result",
          "data": {
            "text/plain": [
              "array([[0, 0, 0, ..., 0, 1, 0],\n",
              "       [0, 0, 0, ..., 0, 1, 0],\n",
              "       [0, 0, 0, ..., 0, 1, 0],\n",
              "       ...,\n",
              "       [0, 0, 0, ..., 0, 0, 0],\n",
              "       [0, 0, 0, ..., 0, 0, 0],\n",
              "       [0, 0, 0, ..., 0, 0, 0]])"
            ]
          },
          "metadata": {},
          "execution_count": 16
        }
      ]
    },
    {
      "cell_type": "code",
      "source": [
        "x"
      ],
      "metadata": {
        "colab": {
          "base_uri": "https://localhost:8080/"
        },
        "id": "gb7NEfuoKmkW",
        "outputId": "8a18845d-045a-4b68-cadc-c4664acefd19"
      },
      "execution_count": 17,
      "outputs": [
        {
          "output_type": "execute_result",
          "data": {
            "text/plain": [
              "array([[ 90.        ,  42.        ,  43.        , ...,  82.00274423,\n",
              "          6.50298529, 202.9355362 ],\n",
              "       [ 85.        ,  58.        ,  41.        , ...,  80.31964408,\n",
              "          7.03809636, 226.6555374 ],\n",
              "       [ 60.        ,  55.        ,  44.        , ...,  82.3207629 ,\n",
              "          7.84020714, 263.9642476 ],\n",
              "       ...,\n",
              "       [118.        ,  33.        ,  30.        , ...,  67.22512329,\n",
              "          6.36260785, 173.3228386 ],\n",
              "       [117.        ,  32.        ,  34.        , ...,  52.12739421,\n",
              "          6.75879255, 127.1752928 ],\n",
              "       [104.        ,  18.        ,  30.        , ...,  60.39647474,\n",
              "          6.77983261, 140.9370415 ]])"
            ]
          },
          "metadata": {},
          "execution_count": 17
        }
      ]
    },
    {
      "cell_type": "code",
      "metadata": {
        "id": "cC2eVIRNtTDS"
      },
      "source": [
        "from sklearn.preprocessing import MinMaxScaler\n",
        "sc = MinMaxScaler()\n",
        "X = sc.fit_transform(x)"
      ],
      "execution_count": 18,
      "outputs": []
    },
    {
      "cell_type": "code",
      "source": [
        "X"
      ],
      "metadata": {
        "colab": {
          "base_uri": "https://localhost:8080/"
        },
        "id": "6Mj27Y40HMWx",
        "outputId": "0fa63582-e82d-4bf7-a28b-b90788cad18d"
      },
      "execution_count": 19,
      "outputs": [
        {
          "output_type": "execute_result",
          "data": {
            "text/plain": [
              "array([[0.64285714, 0.26428571, 0.19      , ..., 0.79026683, 0.46626364,\n",
              "        0.65645778],\n",
              "       [0.60714286, 0.37857143, 0.18      , ..., 0.77063285, 0.54948026,\n",
              "        0.74167459],\n",
              "       [0.42857143, 0.35714286, 0.195     , ..., 0.79397664, 0.67421877,\n",
              "        0.87571039],\n",
              "       ...,\n",
              "       [0.84285714, 0.2       , 0.125     , ..., 0.61788046, 0.44443315,\n",
              "        0.55007079],\n",
              "       [0.83571429, 0.19285714, 0.145     , ..., 0.44175991, 0.50604494,\n",
              "        0.38428046],\n",
              "       [0.74285714, 0.09285714, 0.125     , ..., 0.53822177, 0.50931694,\n",
              "        0.43372112]])"
            ]
          },
          "metadata": {},
          "execution_count": 19
        }
      ]
    },
    {
      "cell_type": "code",
      "source": [
        "Y"
      ],
      "metadata": {
        "colab": {
          "base_uri": "https://localhost:8080/"
        },
        "id": "OFdioIwjLMyP",
        "outputId": "7ce52508-f55f-47c3-debb-7b7018ab5ab7"
      },
      "execution_count": 20,
      "outputs": [
        {
          "output_type": "execute_result",
          "data": {
            "text/plain": [
              "array([[0, 0, 0, ..., 0, 1, 0],\n",
              "       [0, 0, 0, ..., 0, 1, 0],\n",
              "       [0, 0, 0, ..., 0, 1, 0],\n",
              "       ...,\n",
              "       [0, 0, 0, ..., 0, 0, 0],\n",
              "       [0, 0, 0, ..., 0, 0, 0],\n",
              "       [0, 0, 0, ..., 0, 0, 0]])"
            ]
          },
          "metadata": {},
          "execution_count": 20
        }
      ]
    },
    {
      "cell_type": "code",
      "metadata": {
        "id": "4Rm8KzZEszNu"
      },
      "source": [
        "from sklearn.model_selection import train_test_split\n",
        "X_train, X_test, Y_train, Y_test = train_test_split(X, Y, test_size = 0.20, random_state=42)"
      ],
      "execution_count": 21,
      "outputs": []
    },
    {
      "cell_type": "code",
      "metadata": {
        "colab": {
          "base_uri": "https://localhost:8080/"
        },
        "id": "93ny_5Z_IPua",
        "outputId": "ac062021-3388-43d0-fb24-517e6f1b778c"
      },
      "source": [
        "X_train.shape"
      ],
      "execution_count": 22,
      "outputs": [
        {
          "output_type": "execute_result",
          "data": {
            "text/plain": [
              "(1760, 7)"
            ]
          },
          "metadata": {},
          "execution_count": 22
        }
      ]
    },
    {
      "cell_type": "code",
      "source": [
        "X_test.shape"
      ],
      "metadata": {
        "colab": {
          "base_uri": "https://localhost:8080/"
        },
        "id": "bL9BS8Cw1V7C",
        "outputId": "3d8e95f1-cef0-426b-b179-4c9c3be46336"
      },
      "execution_count": 23,
      "outputs": [
        {
          "output_type": "execute_result",
          "data": {
            "text/plain": [
              "(440, 7)"
            ]
          },
          "metadata": {},
          "execution_count": 23
        }
      ]
    },
    {
      "cell_type": "code",
      "source": [
        "Y_train.shape"
      ],
      "metadata": {
        "colab": {
          "base_uri": "https://localhost:8080/"
        },
        "id": "xNVRpeAU0vh0",
        "outputId": "9fea4663-d7b0-447a-f5c7-1afb0314d363"
      },
      "execution_count": 24,
      "outputs": [
        {
          "output_type": "execute_result",
          "data": {
            "text/plain": [
              "(1760, 22)"
            ]
          },
          "metadata": {},
          "execution_count": 24
        }
      ]
    },
    {
      "cell_type": "code",
      "source": [
        "Y_test.shape"
      ],
      "metadata": {
        "colab": {
          "base_uri": "https://localhost:8080/"
        },
        "id": "B5OXSUtj1A3m",
        "outputId": "b151480e-03c9-4501-97bd-83773c8f55e2"
      },
      "execution_count": 25,
      "outputs": [
        {
          "output_type": "execute_result",
          "data": {
            "text/plain": [
              "(440, 22)"
            ]
          },
          "metadata": {},
          "execution_count": 25
        }
      ]
    },
    {
      "cell_type": "code",
      "source": [
        "from tensorflow.keras.models import Sequential\n",
        "from tensorflow.keras.layers import Dense"
      ],
      "metadata": {
        "id": "h3NIj51tzKRD"
      },
      "execution_count": 26,
      "outputs": []
    },
    {
      "cell_type": "code",
      "source": [
        "# define the keras model\n",
        "model = Sequential()\n",
        "model.add(Dense(10, input_dim=7, activation='relu'))\n",
        "model.add(Dense(14, activation='relu'))\n",
        "model.add(Dense(18, activation='relu'))\n",
        "\n",
        "model.add(Dense(22, activation='sigmoid'))\n",
        "# compile the keras model\n",
        "model.compile(loss='binary_crossentropy', optimizer='adam', metrics=['accuracy'])"
      ],
      "metadata": {
        "id": "MIpUNmrfzO2i"
      },
      "execution_count": 27,
      "outputs": []
    },
    {
      "cell_type": "code",
      "source": [
        "model.summary()"
      ],
      "metadata": {
        "colab": {
          "base_uri": "https://localhost:8080/"
        },
        "id": "CWP8p4aJz8YW",
        "outputId": "b6df24f4-0912-4005-f0df-afedc12b7c44"
      },
      "execution_count": 28,
      "outputs": [
        {
          "output_type": "stream",
          "name": "stdout",
          "text": [
            "Model: \"sequential\"\n",
            "_________________________________________________________________\n",
            " Layer (type)                Output Shape              Param #   \n",
            "=================================================================\n",
            " dense (Dense)               (None, 10)                80        \n",
            "                                                                 \n",
            " dense_1 (Dense)             (None, 14)                154       \n",
            "                                                                 \n",
            " dense_2 (Dense)             (None, 18)                270       \n",
            "                                                                 \n",
            " dense_3 (Dense)             (None, 22)                418       \n",
            "                                                                 \n",
            "=================================================================\n",
            "Total params: 922\n",
            "Trainable params: 922\n",
            "Non-trainable params: 0\n",
            "_________________________________________________________________\n"
          ]
        }
      ]
    },
    {
      "cell_type": "code",
      "source": [
        "history = model.fit(X_train,Y_train,epochs=200, batch_size=32)"
      ],
      "metadata": {
        "colab": {
          "base_uri": "https://localhost:8080/"
        },
        "id": "I1tKRqzr0TJR",
        "outputId": "a6927002-ed41-45d4-c63b-5a25b5a0dab9"
      },
      "execution_count": 29,
      "outputs": [
        {
          "output_type": "stream",
          "name": "stdout",
          "text": [
            "Epoch 1/200\n",
            "55/55 [==============================] - 3s 2ms/step - loss: 0.6459 - accuracy: 0.0472\n",
            "Epoch 2/200\n",
            "55/55 [==============================] - 0s 2ms/step - loss: 0.3981 - accuracy: 0.0472\n",
            "Epoch 3/200\n",
            "55/55 [==============================] - 0s 2ms/step - loss: 0.2062 - accuracy: 0.0472\n",
            "Epoch 4/200\n",
            "55/55 [==============================] - 0s 2ms/step - loss: 0.1924 - accuracy: 0.0472\n",
            "Epoch 5/200\n",
            "55/55 [==============================] - 0s 2ms/step - loss: 0.1892 - accuracy: 0.0472\n",
            "Epoch 6/200\n",
            "55/55 [==============================] - 0s 2ms/step - loss: 0.1876 - accuracy: 0.0455\n",
            "Epoch 7/200\n",
            "55/55 [==============================] - 0s 2ms/step - loss: 0.1863 - accuracy: 0.0591\n",
            "Epoch 8/200\n",
            "55/55 [==============================] - 0s 2ms/step - loss: 0.1847 - accuracy: 0.1040\n",
            "Epoch 9/200\n",
            "55/55 [==============================] - 0s 3ms/step - loss: 0.1827 - accuracy: 0.1159\n",
            "Epoch 10/200\n",
            "55/55 [==============================] - 0s 2ms/step - loss: 0.1799 - accuracy: 0.1409\n",
            "Epoch 11/200\n",
            "55/55 [==============================] - 0s 2ms/step - loss: 0.1761 - accuracy: 0.2000\n",
            "Epoch 12/200\n",
            "55/55 [==============================] - 0s 3ms/step - loss: 0.1708 - accuracy: 0.2534\n",
            "Epoch 13/200\n",
            "55/55 [==============================] - 0s 2ms/step - loss: 0.1658 - accuracy: 0.2824\n",
            "Epoch 14/200\n",
            "55/55 [==============================] - 0s 2ms/step - loss: 0.1611 - accuracy: 0.2790\n",
            "Epoch 15/200\n",
            "55/55 [==============================] - 0s 2ms/step - loss: 0.1564 - accuracy: 0.2784\n",
            "Epoch 16/200\n",
            "55/55 [==============================] - 0s 3ms/step - loss: 0.1516 - accuracy: 0.3301\n",
            "Epoch 17/200\n",
            "55/55 [==============================] - 0s 3ms/step - loss: 0.1462 - accuracy: 0.3983\n",
            "Epoch 18/200\n",
            "55/55 [==============================] - 0s 2ms/step - loss: 0.1401 - accuracy: 0.3903\n",
            "Epoch 19/200\n",
            "55/55 [==============================] - 0s 3ms/step - loss: 0.1335 - accuracy: 0.4222\n",
            "Epoch 20/200\n",
            "55/55 [==============================] - 0s 2ms/step - loss: 0.1273 - accuracy: 0.4574\n",
            "Epoch 21/200\n",
            "55/55 [==============================] - 0s 2ms/step - loss: 0.1214 - accuracy: 0.4909\n",
            "Epoch 22/200\n",
            "55/55 [==============================] - 0s 2ms/step - loss: 0.1157 - accuracy: 0.5068\n",
            "Epoch 23/200\n",
            "55/55 [==============================] - 0s 3ms/step - loss: 0.1107 - accuracy: 0.5415\n",
            "Epoch 24/200\n",
            "55/55 [==============================] - 0s 2ms/step - loss: 0.1070 - accuracy: 0.5631\n",
            "Epoch 25/200\n",
            "55/55 [==============================] - 0s 2ms/step - loss: 0.1037 - accuracy: 0.5756\n",
            "Epoch 26/200\n",
            "55/55 [==============================] - 0s 3ms/step - loss: 0.1006 - accuracy: 0.5903\n",
            "Epoch 27/200\n",
            "55/55 [==============================] - 0s 2ms/step - loss: 0.0982 - accuracy: 0.6125\n",
            "Epoch 28/200\n",
            "55/55 [==============================] - 0s 2ms/step - loss: 0.0960 - accuracy: 0.6205\n",
            "Epoch 29/200\n",
            "55/55 [==============================] - 0s 2ms/step - loss: 0.0937 - accuracy: 0.6210\n",
            "Epoch 30/200\n",
            "55/55 [==============================] - 0s 2ms/step - loss: 0.0916 - accuracy: 0.6438\n",
            "Epoch 31/200\n",
            "55/55 [==============================] - 0s 2ms/step - loss: 0.0893 - accuracy: 0.6551\n",
            "Epoch 32/200\n",
            "55/55 [==============================] - 0s 2ms/step - loss: 0.0866 - accuracy: 0.6847\n",
            "Epoch 33/200\n",
            "55/55 [==============================] - 0s 2ms/step - loss: 0.0843 - accuracy: 0.6960\n",
            "Epoch 34/200\n",
            "55/55 [==============================] - 0s 2ms/step - loss: 0.0819 - accuracy: 0.7028\n",
            "Epoch 35/200\n",
            "55/55 [==============================] - 0s 2ms/step - loss: 0.0795 - accuracy: 0.7188\n",
            "Epoch 36/200\n",
            "55/55 [==============================] - 0s 2ms/step - loss: 0.0773 - accuracy: 0.7358\n",
            "Epoch 37/200\n",
            "55/55 [==============================] - 0s 2ms/step - loss: 0.0751 - accuracy: 0.7369\n",
            "Epoch 38/200\n",
            "55/55 [==============================] - 0s 2ms/step - loss: 0.0733 - accuracy: 0.7574\n",
            "Epoch 39/200\n",
            "55/55 [==============================] - 0s 2ms/step - loss: 0.0712 - accuracy: 0.7636\n",
            "Epoch 40/200\n",
            "55/55 [==============================] - 0s 5ms/step - loss: 0.0691 - accuracy: 0.7761\n",
            "Epoch 41/200\n",
            "55/55 [==============================] - 0s 3ms/step - loss: 0.0675 - accuracy: 0.7767\n",
            "Epoch 42/200\n",
            "55/55 [==============================] - 0s 2ms/step - loss: 0.0655 - accuracy: 0.7835\n",
            "Epoch 43/200\n",
            "55/55 [==============================] - 0s 3ms/step - loss: 0.0636 - accuracy: 0.7932\n",
            "Epoch 44/200\n",
            "55/55 [==============================] - 0s 2ms/step - loss: 0.0619 - accuracy: 0.7977\n",
            "Epoch 45/200\n",
            "55/55 [==============================] - 0s 5ms/step - loss: 0.0602 - accuracy: 0.8125\n",
            "Epoch 46/200\n",
            "55/55 [==============================] - 0s 2ms/step - loss: 0.0585 - accuracy: 0.8108\n",
            "Epoch 47/200\n",
            "55/55 [==============================] - 0s 2ms/step - loss: 0.0572 - accuracy: 0.8159\n",
            "Epoch 48/200\n",
            "55/55 [==============================] - 0s 2ms/step - loss: 0.0558 - accuracy: 0.8142\n",
            "Epoch 49/200\n",
            "55/55 [==============================] - 0s 2ms/step - loss: 0.0544 - accuracy: 0.8193\n",
            "Epoch 50/200\n",
            "55/55 [==============================] - 0s 4ms/step - loss: 0.0528 - accuracy: 0.8369\n",
            "Epoch 51/200\n",
            "55/55 [==============================] - 0s 3ms/step - loss: 0.0516 - accuracy: 0.8409\n",
            "Epoch 52/200\n",
            "55/55 [==============================] - 0s 2ms/step - loss: 0.0507 - accuracy: 0.8392\n",
            "Epoch 53/200\n",
            "55/55 [==============================] - 0s 3ms/step - loss: 0.0492 - accuracy: 0.8483\n",
            "Epoch 54/200\n",
            "55/55 [==============================] - 0s 2ms/step - loss: 0.0481 - accuracy: 0.8466\n",
            "Epoch 55/200\n",
            "55/55 [==============================] - 0s 3ms/step - loss: 0.0467 - accuracy: 0.8568\n",
            "Epoch 56/200\n",
            "55/55 [==============================] - 0s 2ms/step - loss: 0.0459 - accuracy: 0.8597\n",
            "Epoch 57/200\n",
            "55/55 [==============================] - 0s 3ms/step - loss: 0.0451 - accuracy: 0.8619\n",
            "Epoch 58/200\n",
            "55/55 [==============================] - 0s 3ms/step - loss: 0.0440 - accuracy: 0.8591\n",
            "Epoch 59/200\n",
            "55/55 [==============================] - 0s 3ms/step - loss: 0.0429 - accuracy: 0.8705\n",
            "Epoch 60/200\n",
            "55/55 [==============================] - 0s 3ms/step - loss: 0.0422 - accuracy: 0.8670\n",
            "Epoch 61/200\n",
            "55/55 [==============================] - 0s 2ms/step - loss: 0.0410 - accuracy: 0.8807\n",
            "Epoch 62/200\n",
            "55/55 [==============================] - 0s 2ms/step - loss: 0.0406 - accuracy: 0.8761\n",
            "Epoch 63/200\n",
            "55/55 [==============================] - 0s 2ms/step - loss: 0.0397 - accuracy: 0.8778\n",
            "Epoch 64/200\n",
            "55/55 [==============================] - 0s 2ms/step - loss: 0.0386 - accuracy: 0.8926\n",
            "Epoch 65/200\n",
            "55/55 [==============================] - 0s 2ms/step - loss: 0.0380 - accuracy: 0.8915\n",
            "Epoch 66/200\n",
            "55/55 [==============================] - 0s 3ms/step - loss: 0.0375 - accuracy: 0.8960\n",
            "Epoch 67/200\n",
            "55/55 [==============================] - 0s 4ms/step - loss: 0.0367 - accuracy: 0.9000\n",
            "Epoch 68/200\n",
            "55/55 [==============================] - 0s 4ms/step - loss: 0.0362 - accuracy: 0.8943\n",
            "Epoch 69/200\n",
            "55/55 [==============================] - 0s 3ms/step - loss: 0.0353 - accuracy: 0.8989\n",
            "Epoch 70/200\n",
            "55/55 [==============================] - 0s 3ms/step - loss: 0.0346 - accuracy: 0.9057\n",
            "Epoch 71/200\n",
            "55/55 [==============================] - 0s 3ms/step - loss: 0.0342 - accuracy: 0.9045\n",
            "Epoch 72/200\n",
            "55/55 [==============================] - 0s 3ms/step - loss: 0.0335 - accuracy: 0.9085\n",
            "Epoch 73/200\n",
            "55/55 [==============================] - 0s 3ms/step - loss: 0.0328 - accuracy: 0.9119\n",
            "Epoch 74/200\n",
            "55/55 [==============================] - 0s 3ms/step - loss: 0.0325 - accuracy: 0.9102\n",
            "Epoch 75/200\n",
            "55/55 [==============================] - 0s 3ms/step - loss: 0.0320 - accuracy: 0.9176\n",
            "Epoch 76/200\n",
            "55/55 [==============================] - 0s 4ms/step - loss: 0.0316 - accuracy: 0.9165\n",
            "Epoch 77/200\n",
            "55/55 [==============================] - 0s 3ms/step - loss: 0.0309 - accuracy: 0.9176\n",
            "Epoch 78/200\n",
            "55/55 [==============================] - 0s 3ms/step - loss: 0.0305 - accuracy: 0.9170\n",
            "Epoch 79/200\n",
            "55/55 [==============================] - 0s 3ms/step - loss: 0.0303 - accuracy: 0.9256\n",
            "Epoch 80/200\n",
            "55/55 [==============================] - 0s 3ms/step - loss: 0.0299 - accuracy: 0.9187\n",
            "Epoch 81/200\n",
            "55/55 [==============================] - 0s 3ms/step - loss: 0.0290 - accuracy: 0.9267\n",
            "Epoch 82/200\n",
            "55/55 [==============================] - 0s 3ms/step - loss: 0.0286 - accuracy: 0.9267\n",
            "Epoch 83/200\n",
            "55/55 [==============================] - 0s 4ms/step - loss: 0.0282 - accuracy: 0.9284\n",
            "Epoch 84/200\n",
            "55/55 [==============================] - 0s 3ms/step - loss: 0.0277 - accuracy: 0.9301\n",
            "Epoch 85/200\n",
            "55/55 [==============================] - 0s 3ms/step - loss: 0.0273 - accuracy: 0.9341\n",
            "Epoch 86/200\n",
            "55/55 [==============================] - 0s 3ms/step - loss: 0.0271 - accuracy: 0.9324\n",
            "Epoch 87/200\n",
            "55/55 [==============================] - 0s 2ms/step - loss: 0.0268 - accuracy: 0.9284\n",
            "Epoch 88/200\n",
            "55/55 [==============================] - 0s 2ms/step - loss: 0.0262 - accuracy: 0.9347\n",
            "Epoch 89/200\n",
            "55/55 [==============================] - 0s 2ms/step - loss: 0.0260 - accuracy: 0.9318\n",
            "Epoch 90/200\n",
            "55/55 [==============================] - 0s 3ms/step - loss: 0.0259 - accuracy: 0.9295\n",
            "Epoch 91/200\n",
            "55/55 [==============================] - 0s 2ms/step - loss: 0.0256 - accuracy: 0.9324\n",
            "Epoch 92/200\n",
            "55/55 [==============================] - 0s 2ms/step - loss: 0.0249 - accuracy: 0.9358\n",
            "Epoch 93/200\n",
            "55/55 [==============================] - 0s 3ms/step - loss: 0.0245 - accuracy: 0.9398\n",
            "Epoch 94/200\n",
            "55/55 [==============================] - 0s 2ms/step - loss: 0.0243 - accuracy: 0.9415\n",
            "Epoch 95/200\n",
            "55/55 [==============================] - 0s 3ms/step - loss: 0.0240 - accuracy: 0.9398\n",
            "Epoch 96/200\n",
            "55/55 [==============================] - 0s 3ms/step - loss: 0.0238 - accuracy: 0.9381\n",
            "Epoch 97/200\n",
            "55/55 [==============================] - 0s 2ms/step - loss: 0.0237 - accuracy: 0.9398\n",
            "Epoch 98/200\n",
            "55/55 [==============================] - 0s 3ms/step - loss: 0.0234 - accuracy: 0.9449\n",
            "Epoch 99/200\n",
            "55/55 [==============================] - 0s 2ms/step - loss: 0.0230 - accuracy: 0.9392\n",
            "Epoch 100/200\n",
            "55/55 [==============================] - 0s 2ms/step - loss: 0.0227 - accuracy: 0.9426\n",
            "Epoch 101/200\n",
            "55/55 [==============================] - 0s 2ms/step - loss: 0.0222 - accuracy: 0.9460\n",
            "Epoch 102/200\n",
            "55/55 [==============================] - 0s 2ms/step - loss: 0.0221 - accuracy: 0.9466\n",
            "Epoch 103/200\n",
            "55/55 [==============================] - 0s 3ms/step - loss: 0.0221 - accuracy: 0.9420\n",
            "Epoch 104/200\n",
            "55/55 [==============================] - 0s 3ms/step - loss: 0.0217 - accuracy: 0.9460\n",
            "Epoch 105/200\n",
            "55/55 [==============================] - 0s 2ms/step - loss: 0.0213 - accuracy: 0.9432\n",
            "Epoch 106/200\n",
            "55/55 [==============================] - 0s 3ms/step - loss: 0.0214 - accuracy: 0.9466\n",
            "Epoch 107/200\n",
            "55/55 [==============================] - 0s 3ms/step - loss: 0.0208 - accuracy: 0.9466\n",
            "Epoch 108/200\n",
            "55/55 [==============================] - 0s 2ms/step - loss: 0.0207 - accuracy: 0.9489\n",
            "Epoch 109/200\n",
            "55/55 [==============================] - 0s 3ms/step - loss: 0.0205 - accuracy: 0.9511\n",
            "Epoch 110/200\n",
            "55/55 [==============================] - 0s 2ms/step - loss: 0.0205 - accuracy: 0.9483\n",
            "Epoch 111/200\n",
            "55/55 [==============================] - 0s 3ms/step - loss: 0.0202 - accuracy: 0.9438\n",
            "Epoch 112/200\n",
            "55/55 [==============================] - 0s 3ms/step - loss: 0.0197 - accuracy: 0.9523\n",
            "Epoch 113/200\n",
            "55/55 [==============================] - 0s 2ms/step - loss: 0.0197 - accuracy: 0.9483\n",
            "Epoch 114/200\n",
            "55/55 [==============================] - 0s 2ms/step - loss: 0.0193 - accuracy: 0.9528\n",
            "Epoch 115/200\n",
            "55/55 [==============================] - 0s 2ms/step - loss: 0.0190 - accuracy: 0.9551\n",
            "Epoch 116/200\n",
            "55/55 [==============================] - 0s 3ms/step - loss: 0.0189 - accuracy: 0.9528\n",
            "Epoch 117/200\n",
            "55/55 [==============================] - 0s 2ms/step - loss: 0.0188 - accuracy: 0.9523\n",
            "Epoch 118/200\n",
            "55/55 [==============================] - 0s 3ms/step - loss: 0.0185 - accuracy: 0.9534\n",
            "Epoch 119/200\n",
            "55/55 [==============================] - 0s 2ms/step - loss: 0.0183 - accuracy: 0.9557\n",
            "Epoch 120/200\n",
            "55/55 [==============================] - 0s 2ms/step - loss: 0.0182 - accuracy: 0.9557\n",
            "Epoch 121/200\n",
            "55/55 [==============================] - 0s 2ms/step - loss: 0.0180 - accuracy: 0.9545\n",
            "Epoch 122/200\n",
            "55/55 [==============================] - 0s 2ms/step - loss: 0.0180 - accuracy: 0.9540\n",
            "Epoch 123/200\n",
            "55/55 [==============================] - 0s 2ms/step - loss: 0.0177 - accuracy: 0.9568\n",
            "Epoch 124/200\n",
            "55/55 [==============================] - 0s 3ms/step - loss: 0.0178 - accuracy: 0.9585\n",
            "Epoch 125/200\n",
            "55/55 [==============================] - 0s 2ms/step - loss: 0.0175 - accuracy: 0.9551\n",
            "Epoch 126/200\n",
            "55/55 [==============================] - 0s 2ms/step - loss: 0.0172 - accuracy: 0.9568\n",
            "Epoch 127/200\n",
            "55/55 [==============================] - 0s 3ms/step - loss: 0.0168 - accuracy: 0.9602\n",
            "Epoch 128/200\n",
            "55/55 [==============================] - 0s 2ms/step - loss: 0.0168 - accuracy: 0.9614\n",
            "Epoch 129/200\n",
            "55/55 [==============================] - 0s 2ms/step - loss: 0.0167 - accuracy: 0.9574\n",
            "Epoch 130/200\n",
            "55/55 [==============================] - 0s 3ms/step - loss: 0.0163 - accuracy: 0.9591\n",
            "Epoch 131/200\n",
            "55/55 [==============================] - 0s 2ms/step - loss: 0.0164 - accuracy: 0.9602\n",
            "Epoch 132/200\n",
            "55/55 [==============================] - 0s 2ms/step - loss: 0.0162 - accuracy: 0.9614\n",
            "Epoch 133/200\n",
            "55/55 [==============================] - 0s 3ms/step - loss: 0.0158 - accuracy: 0.9659\n",
            "Epoch 134/200\n",
            "55/55 [==============================] - 0s 2ms/step - loss: 0.0158 - accuracy: 0.9659\n",
            "Epoch 135/200\n",
            "55/55 [==============================] - 0s 3ms/step - loss: 0.0157 - accuracy: 0.9636\n",
            "Epoch 136/200\n",
            "55/55 [==============================] - 0s 2ms/step - loss: 0.0153 - accuracy: 0.9676\n",
            "Epoch 137/200\n",
            "55/55 [==============================] - 0s 2ms/step - loss: 0.0154 - accuracy: 0.9670\n",
            "Epoch 138/200\n",
            "55/55 [==============================] - 0s 2ms/step - loss: 0.0151 - accuracy: 0.9659\n",
            "Epoch 139/200\n",
            "55/55 [==============================] - 0s 3ms/step - loss: 0.0152 - accuracy: 0.9591\n",
            "Epoch 140/200\n",
            "55/55 [==============================] - 0s 2ms/step - loss: 0.0150 - accuracy: 0.9665\n",
            "Epoch 141/200\n",
            "55/55 [==============================] - 0s 2ms/step - loss: 0.0147 - accuracy: 0.9693\n",
            "Epoch 142/200\n",
            "55/55 [==============================] - 0s 2ms/step - loss: 0.0148 - accuracy: 0.9653\n",
            "Epoch 143/200\n",
            "55/55 [==============================] - 0s 2ms/step - loss: 0.0146 - accuracy: 0.9631\n",
            "Epoch 144/200\n",
            "55/55 [==============================] - 0s 2ms/step - loss: 0.0143 - accuracy: 0.9676\n",
            "Epoch 145/200\n",
            "55/55 [==============================] - 0s 2ms/step - loss: 0.0141 - accuracy: 0.9653\n",
            "Epoch 146/200\n",
            "55/55 [==============================] - 0s 3ms/step - loss: 0.0139 - accuracy: 0.9688\n",
            "Epoch 147/200\n",
            "55/55 [==============================] - 0s 3ms/step - loss: 0.0138 - accuracy: 0.9688\n",
            "Epoch 148/200\n",
            "55/55 [==============================] - 0s 2ms/step - loss: 0.0138 - accuracy: 0.9716\n",
            "Epoch 149/200\n",
            "55/55 [==============================] - 0s 3ms/step - loss: 0.0139 - accuracy: 0.9676\n",
            "Epoch 150/200\n",
            "55/55 [==============================] - 0s 2ms/step - loss: 0.0135 - accuracy: 0.9705\n",
            "Epoch 151/200\n",
            "55/55 [==============================] - 0s 2ms/step - loss: 0.0133 - accuracy: 0.9682\n",
            "Epoch 152/200\n",
            "55/55 [==============================] - 0s 3ms/step - loss: 0.0132 - accuracy: 0.9688\n",
            "Epoch 153/200\n",
            "55/55 [==============================] - 0s 2ms/step - loss: 0.0131 - accuracy: 0.9716\n",
            "Epoch 154/200\n",
            "55/55 [==============================] - 0s 2ms/step - loss: 0.0131 - accuracy: 0.9699\n",
            "Epoch 155/200\n",
            "55/55 [==============================] - 0s 3ms/step - loss: 0.0130 - accuracy: 0.9710\n",
            "Epoch 156/200\n",
            "55/55 [==============================] - 0s 4ms/step - loss: 0.0128 - accuracy: 0.9722\n",
            "Epoch 157/200\n",
            "55/55 [==============================] - 0s 4ms/step - loss: 0.0130 - accuracy: 0.9699\n",
            "Epoch 158/200\n",
            "55/55 [==============================] - 0s 3ms/step - loss: 0.0126 - accuracy: 0.9727\n",
            "Epoch 159/200\n",
            "55/55 [==============================] - 0s 4ms/step - loss: 0.0124 - accuracy: 0.9699\n",
            "Epoch 160/200\n",
            "55/55 [==============================] - 0s 3ms/step - loss: 0.0123 - accuracy: 0.9688\n",
            "Epoch 161/200\n",
            "55/55 [==============================] - 0s 3ms/step - loss: 0.0124 - accuracy: 0.9710\n",
            "Epoch 162/200\n",
            "55/55 [==============================] - 0s 3ms/step - loss: 0.0121 - accuracy: 0.9710\n",
            "Epoch 163/200\n",
            "55/55 [==============================] - 0s 3ms/step - loss: 0.0123 - accuracy: 0.9722\n",
            "Epoch 164/200\n",
            "55/55 [==============================] - 0s 3ms/step - loss: 0.0119 - accuracy: 0.9727\n",
            "Epoch 165/200\n",
            "55/55 [==============================] - 0s 3ms/step - loss: 0.0117 - accuracy: 0.9727\n",
            "Epoch 166/200\n",
            "55/55 [==============================] - 0s 4ms/step - loss: 0.0120 - accuracy: 0.9688\n",
            "Epoch 167/200\n",
            "55/55 [==============================] - 0s 3ms/step - loss: 0.0118 - accuracy: 0.9699\n",
            "Epoch 168/200\n",
            "55/55 [==============================] - 0s 4ms/step - loss: 0.0115 - accuracy: 0.9727\n",
            "Epoch 169/200\n",
            "55/55 [==============================] - 0s 3ms/step - loss: 0.0116 - accuracy: 0.9733\n",
            "Epoch 170/200\n",
            "55/55 [==============================] - 0s 4ms/step - loss: 0.0115 - accuracy: 0.9705\n",
            "Epoch 171/200\n",
            "55/55 [==============================] - 0s 4ms/step - loss: 0.0115 - accuracy: 0.9733\n",
            "Epoch 172/200\n",
            "55/55 [==============================] - 0s 4ms/step - loss: 0.0112 - accuracy: 0.9716\n",
            "Epoch 173/200\n",
            "55/55 [==============================] - 0s 3ms/step - loss: 0.0110 - accuracy: 0.9739\n",
            "Epoch 174/200\n",
            "55/55 [==============================] - 0s 3ms/step - loss: 0.0109 - accuracy: 0.9722\n",
            "Epoch 175/200\n",
            "55/55 [==============================] - 0s 3ms/step - loss: 0.0110 - accuracy: 0.9722\n",
            "Epoch 176/200\n",
            "55/55 [==============================] - 0s 3ms/step - loss: 0.0108 - accuracy: 0.9733\n",
            "Epoch 177/200\n",
            "55/55 [==============================] - 0s 2ms/step - loss: 0.0108 - accuracy: 0.9727\n",
            "Epoch 178/200\n",
            "55/55 [==============================] - 0s 2ms/step - loss: 0.0109 - accuracy: 0.9710\n",
            "Epoch 179/200\n",
            "55/55 [==============================] - 0s 3ms/step - loss: 0.0108 - accuracy: 0.9716\n",
            "Epoch 180/200\n",
            "55/55 [==============================] - 0s 2ms/step - loss: 0.0106 - accuracy: 0.9733\n",
            "Epoch 181/200\n",
            "55/55 [==============================] - 0s 3ms/step - loss: 0.0106 - accuracy: 0.9744\n",
            "Epoch 182/200\n",
            "55/55 [==============================] - 0s 3ms/step - loss: 0.0106 - accuracy: 0.9744\n",
            "Epoch 183/200\n",
            "55/55 [==============================] - 0s 2ms/step - loss: 0.0103 - accuracy: 0.9744\n",
            "Epoch 184/200\n",
            "55/55 [==============================] - 0s 3ms/step - loss: 0.0105 - accuracy: 0.9727\n",
            "Epoch 185/200\n",
            "55/55 [==============================] - 0s 2ms/step - loss: 0.0102 - accuracy: 0.9750\n",
            "Epoch 186/200\n",
            "55/55 [==============================] - 0s 2ms/step - loss: 0.0104 - accuracy: 0.9756\n",
            "Epoch 187/200\n",
            "55/55 [==============================] - 0s 3ms/step - loss: 0.0102 - accuracy: 0.9727\n",
            "Epoch 188/200\n",
            "55/55 [==============================] - 0s 2ms/step - loss: 0.0101 - accuracy: 0.9733\n",
            "Epoch 189/200\n",
            "55/55 [==============================] - 0s 3ms/step - loss: 0.0101 - accuracy: 0.9744\n",
            "Epoch 190/200\n",
            "55/55 [==============================] - 0s 2ms/step - loss: 0.0100 - accuracy: 0.9733\n",
            "Epoch 191/200\n",
            "55/55 [==============================] - 0s 3ms/step - loss: 0.0099 - accuracy: 0.9722\n",
            "Epoch 192/200\n",
            "55/55 [==============================] - 0s 3ms/step - loss: 0.0098 - accuracy: 0.9744\n",
            "Epoch 193/200\n",
            "55/55 [==============================] - 0s 2ms/step - loss: 0.0097 - accuracy: 0.9761\n",
            "Epoch 194/200\n",
            "55/55 [==============================] - 0s 3ms/step - loss: 0.0100 - accuracy: 0.9756\n",
            "Epoch 195/200\n",
            "55/55 [==============================] - 0s 2ms/step - loss: 0.0097 - accuracy: 0.9767\n",
            "Epoch 196/200\n",
            "55/55 [==============================] - 0s 3ms/step - loss: 0.0097 - accuracy: 0.9756\n",
            "Epoch 197/200\n",
            "55/55 [==============================] - 0s 2ms/step - loss: 0.0096 - accuracy: 0.9739\n",
            "Epoch 198/200\n",
            "55/55 [==============================] - 0s 3ms/step - loss: 0.0094 - accuracy: 0.9756\n",
            "Epoch 199/200\n",
            "55/55 [==============================] - 0s 3ms/step - loss: 0.0094 - accuracy: 0.9761\n",
            "Epoch 200/200\n",
            "55/55 [==============================] - 0s 3ms/step - loss: 0.0093 - accuracy: 0.9733\n"
          ]
        }
      ]
    },
    {
      "cell_type": "code",
      "source": [
        "acc = history.history['accuracy']\n",
        "loss = history.history['loss']"
      ],
      "metadata": {
        "id": "h_GB_En311iJ"
      },
      "execution_count": 30,
      "outputs": []
    },
    {
      "cell_type": "code",
      "source": [
        "from matplotlib import pyplot as plt\n",
        "#plot training and validation accuracy\n",
        "plt.plot(history.history['accuracy'])\n",
        "#plt.plot(history.history['val_accuracy'])\n",
        "plt.title('model accuracy')\n",
        "plt.ylabel('accuracy')\n",
        "plt.xlabel('epoch')\n",
        "plt.legend(['train'], loc='upper left')\n",
        "plt.show()\n",
        "plt.savefig('accuracy_curve.png')"
      ],
      "metadata": {
        "colab": {
          "base_uri": "https://localhost:8080/",
          "height": 312
        },
        "id": "st9D-hQ12ftq",
        "outputId": "b89ddb5d-301a-40e8-fc3a-b866cdb366b5"
      },
      "execution_count": 31,
      "outputs": [
        {
          "output_type": "display_data",
          "data": {
            "text/plain": [
              "<Figure size 432x288 with 1 Axes>"
            ],
            "image/png": "[encoded data removed]"
          },
          "metadata": {
            "needs_background": "light"
          }
        },
        {
          "output_type": "display_data",
          "data": {
            "text/plain": [
              "<Figure size 432x288 with 0 Axes>"
            ]
          },
          "metadata": {}
        }
      ]
    },
    {
      "cell_type": "code",
      "source": [
        "#plot training loss\n",
        "plt.plot(history.history['loss'])\n",
        "plt.plot()\n",
        "plt.title('model loss')\n",
        "plt.ylabel('loss')\n",
        "plt.xlabel('epoch')\n",
        "plt.legend(['train'], loc='upper left')\n",
        "plt.show()\n",
        "plt.savefig('loss_curve.png')"
      ],
      "metadata": {
        "colab": {
          "base_uri": "https://localhost:8080/",
          "height": 312
        },
        "id": "OIMEHqwH25fW",
        "outputId": "aa7722d6-a66a-4cac-e37f-e1f91a7b5f93"
      },
      "execution_count": 32,
      "outputs": [
        {
          "output_type": "display_data",
          "data": {
            "text/plain": [
              "<Figure size 432x288 with 1 Axes>"
            ],
            "image/png": "[encoded data removed]"
          },
          "metadata": {
            "needs_background": "light"
          }
        },
        {
          "output_type": "display_data",
          "data": {
            "text/plain": [
              "<Figure size 432x288 with 0 Axes>"
            ]
          },
          "metadata": {}
        }
      ]
    },
    {
      "cell_type": "code",
      "source": [
        "history_test = model.evaluate(X_test,Y_test)"
      ],
      "metadata": {
        "colab": {
          "base_uri": "https://localhost:8080/"
        },
        "id": "9aj1HD7b3v_Y",
        "outputId": "7faac265-03cc-4146-f8bc-5516fdeb46a9"
      },
      "execution_count": 33,
      "outputs": [
        {
          "output_type": "stream",
          "name": "stdout",
          "text": [
            "14/14 [==============================] - 0s 3ms/step - loss: 0.0174 - accuracy: 0.9545\n"
          ]
        }
      ]
    },
    {
      "cell_type": "code",
      "source": [
        "history_test"
      ],
      "metadata": {
        "colab": {
          "base_uri": "https://localhost:8080/"
        },
        "id": "2r-SSG2q4zkd",
        "outputId": "d4c83de3-697a-456b-f0f0-f0a62d41edaf"
      },
      "execution_count": 34,
      "outputs": [
        {
          "output_type": "execute_result",
          "data": {
            "text/plain": [
              "[0.017425278201699257, 0.9545454382896423]"
            ]
          },
          "metadata": {},
          "execution_count": 34
        }
      ]
    },
    {
      "cell_type": "markdown",
      "metadata": {
        "id": "CHeqjnqOt86D"
      },
      "source": [
        "Now we have to create and train the K Nearest Neighbor model with the training set. We are using 3 parameters in the model creation. n_neighbors is setting as 5, which means 5 neighborhood points are required for classifying a given point. The distance metric we are using is Minkowski,"
      ]
    },
    {
      "cell_type": "markdown",
      "metadata": {
        "id": "ppm1VrVyvn5Z"
      },
      "source": [
        "Our Model is created, now we have to predict the output for the test set"
      ]
    },
    {
      "cell_type": "code",
      "metadata": {
        "id": "REbRf1fsuR8Z",
        "colab": {
          "base_uri": "https://localhost:8080/",
          "height": 165
        },
        "outputId": "2d73b29f-5643-4fb5-8e62-3d070d20012e"
      },
      "source": [
        "y_pred = classifier.predict(X_test)"
      ],
      "execution_count": 35,
      "outputs": [
        {
          "output_type": "error",
          "ename": "NameError",
          "evalue": "ignored",
          "traceback": [
            "\u001b[0;31m---------------------------------------------------------------------------\u001b[0m",
            "\u001b[0;31mNameError\u001b[0m                                 Traceback (most recent call last)",
            "\u001b[0;32m<ipython-input-35-20469ee708c2>\u001b[0m in \u001b[0;36m<module>\u001b[0;34m\u001b[0m\n\u001b[0;32m----> 1\u001b[0;31m \u001b[0my_pred\u001b[0m \u001b[0;34m=\u001b[0m \u001b[0mclassifier\u001b[0m\u001b[0;34m.\u001b[0m\u001b[0mpredict\u001b[0m\u001b[0;34m(\u001b[0m\u001b[0mX_test\u001b[0m\u001b[0;34m)\u001b[0m\u001b[0;34m\u001b[0m\u001b[0;34m\u001b[0m\u001b[0m\n\u001b[0m",
            "\u001b[0;31mNameError\u001b[0m: name 'classifier' is not defined"
          ]
        }
      ]
    },
    {
      "cell_type": "code",
      "metadata": {
        "id": "tE-fNFpFvsvj"
      },
      "source": [
        "y_pred"
      ],
      "execution_count": null,
      "outputs": []
    },
    {
      "cell_type": "code",
      "metadata": {
        "id": "JJx6VUodL66B"
      },
      "source": [
        "y_test"
      ],
      "execution_count": null,
      "outputs": []
    },
    {
      "cell_type": "markdown",
      "metadata": {
        "id": "8xH6cqvsv0lH"
      },
      "source": [
        "We can evaluate our model using the confusion matrix and accuracy score by comparing the predicted and actual test values"
      ]
    },
    {
      "cell_type": "code",
      "metadata": {
        "id": "KrzJ57HXvuUl"
      },
      "source": [
        "from sklearn.metrics import confusion_matrix,accuracy_score\n",
        "cm = confusion_matrix(y_test, y_pred)\n",
        "ac = accuracy_score(y_test,y_pred)"
      ],
      "execution_count": null,
      "outputs": []
    },
    {
      "cell_type": "code",
      "metadata": {
        "id": "8yASF0Dav6MU"
      },
      "source": [
        "print(cm)"
      ],
      "execution_count": null,
      "outputs": []
    },
    {
      "cell_type": "code",
      "metadata": {
        "id": "j6sC71m5v8gc"
      },
      "source": [
        "print(ac)"
      ],
      "execution_count": null,
      "outputs": []
    },
    {
      "cell_type": "code",
      "metadata": {
        "id": "BzbXd6Mqv-gO"
      },
      "source": [],
      "execution_count": null,
      "outputs": []
    }
  ]
}